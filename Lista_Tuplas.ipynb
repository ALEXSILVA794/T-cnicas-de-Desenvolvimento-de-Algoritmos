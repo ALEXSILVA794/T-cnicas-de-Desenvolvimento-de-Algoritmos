{
  "cells": [
    {
      "cell_type": "markdown",
      "metadata": {
        "id": "view-in-github",
        "colab_type": "text"
      },
      "source": [
        "<a href=\"https://colab.research.google.com/github/ALEXSILVA794/T-cnicas-de-Desenvolvimento-de-Algoritmos/blob/main/Lista_Tuplas.ipynb\" target=\"_parent\"><img src=\"https://colab.research.google.com/assets/colab-badge.svg\" alt=\"Open In Colab\"/></a>"
      ]
    },
    {
      "cell_type": "markdown",
      "metadata": {
        "id": "JwRe3bfdmATn"
      },
      "source": [
        "#Nome:ALEX PAULO DA SILVA\n",
        "\n",
        "#CURSO: SISTEMA DE INFORMAÇÕES\n",
        "\n"
      ]
    },
    {
      "cell_type": "code",
      "execution_count": null,
      "metadata": {
        "colab": {
          "base_uri": "https://localhost:8080/"
        },
        "id": "WsmVtZfPmoeK",
        "outputId": "969fc274-0c99-4562-aec3-a6ccce776294"
      },
      "outputs": [
        {
          "name": "stdout",
          "output_type": "stream",
          "text": [
            "Digite o 1º número inteiro: 5\n",
            "Digite o 2º número inteiro: 8\n",
            "Digite o 3º número inteiro: 8\n",
            "Digite o 4º número inteiro: 6\n",
            "Digite o 5º número inteiro: 2\n",
            "A lista com os números digitados é: [5, 8, 8, 6, 2]\n"
          ]
        }
      ],
      "source": [
        "'''\n",
        "TAREFA 1\n",
        "Escreva um programa que solicita que o\n",
        "usuário digite 5 números inteiros e os coloca\n",
        "em uma lista.\n",
        "Quando terminar, imprima a lista.\n",
        "Exercícios\n",
        "'''\n",
        "# Inicializando uma lista vazia\n",
        "numeros = []\n",
        "\n",
        "# Solicitando ao usuário que insira 5 números inteiros\n",
        "for i in range(5):\n",
        "    numero = int(input(f\"Digite o {i+1}º número inteiro: \"))\n",
        "    numeros.append(numero)\n",
        "\n",
        "# Imprimindo a lista com os números inseridos\n",
        "print(\"A lista com os números digitados é:\", numeros)\n"
      ]
    },
    {
      "cell_type": "code",
      "execution_count": null,
      "metadata": {
        "colab": {
          "base_uri": "https://localhost:8080/"
        },
        "id": "fcIR7vSYoVUi",
        "outputId": "76933f74-2927-499f-d532-54b6316ed66f"
      },
      "outputs": [
        {
          "name": "stdout",
          "output_type": "stream",
          "text": [
            "Lista original: [-10, 15, -20, 30, -5]\n",
            "Lista com os módulos: [10, 15, 20, 30, 5]\n"
          ]
        }
      ],
      "source": [
        "'''\n",
        "TAREFA 2\n",
        "Escreva um programa que aplica a função\n",
        "módulo a todos os elementos e uma lista.\n",
        "'''\n",
        "# Lista de exemplo com números negativos e positivos\n",
        "lista = [-10, 15, -20, 30, -5]\n",
        "\n",
        "# Usando a função map para aplicar o módulo (abs) a todos os elementos da lista\n",
        "lista_modulo = list(map(abs, lista))\n",
        "\n",
        "# Exibindo o resultado\n",
        "print(\"Lista original:\", lista)\n",
        "print(\"Lista com os módulos:\", lista_modulo)\n"
      ]
    },
    {
      "cell_type": "code",
      "execution_count": null,
      "metadata": {
        "colab": {
          "base_uri": "https://localhost:8080/"
        },
        "id": "Jk95YQPcptOM",
        "outputId": "e8dfb952-669c-4710-d2c3-817365b06bba"
      },
      "outputs": [
        {
          "name": "stdout",
          "output_type": "stream",
          "text": [
            "Lista original: [-10, 15, -20, 30, -5]\n",
            "Lista sem elementos negativos: [15, 30]\n"
          ]
        }
      ],
      "source": [
        "'''\n",
        "TAREFA 3\n",
        "Escreva um programa que apaga todos os\n",
        "elementos negativos de uma lista.\n",
        "'''\n",
        "# Lista de exemplo com números negativos e positivos\n",
        "lista = [-10, 15, -20, 30, -5]\n",
        "\n",
        "# Usando compreensão de lista para manter apenas os elementos positivos\n",
        "lista_sem_negativos = [x for x in lista if x >= 0]\n",
        "\n",
        "# Exibindo o resultado\n",
        "print(\"Lista original:\", lista)\n",
        "print(\"Lista sem elementos negativos:\", lista_sem_negativos)\n"
      ]
    },
    {
      "cell_type": "code",
      "execution_count": null,
      "metadata": {
        "colab": {
          "background_save": true
        },
        "id": "GTn5b3hDqNpO"
      },
      "outputs": [],
      "source": [
        "'''\n",
        "TAREFA 4\n",
        "Faça um programa que solicita uma\n",
        "quantidade indefinida de notas de uma\n",
        "prova (deve parar quando um número\n",
        "negativo for digitado).\n",
        "Armazena em uma lista.\n",
        "Após isso, o programa deve mostrar a média\n",
        "das notas.\n",
        "'''\n",
        "# Lista para armazenar as notas\n",
        "notas = []\n",
        "\n",
        "# Loop para solicitar as notas até que um número negativo seja digitado\n",
        "while True:\n",
        "    # Solicita a nota do usuário\n",
        "    nota = float(input(\"Digite a nota (ou um número negativo para terminar): \"))\n",
        "\n",
        "    # Se o número for negativo, sai do loop\n",
        "    if nota < 0:\n",
        "        break\n",
        "\n",
        "    # Caso contrário, adiciona a nota à lista\n",
        "    notas.append(nota)\n",
        "\n",
        "# Calculando a média das notas\n",
        "if len(notas) > 0:\n",
        "    media = sum(notas) / len(notas)\n",
        "    print(f\"A média das notas é: {media:.2f}\")\n",
        "else:\n",
        "    print(\"Nenhuma nota válida foi inserida.\")\n"
      ]
    },
    {
      "cell_type": "code",
      "source": [
        "'''\n",
        "TAREFA 5\n",
        "Faça um programa que solicita uma\n",
        "quantidade indefinida de números positivos\n",
        "(deve parar quando um número negativo for\n",
        "digitado).\n",
        "Armazene-os em duas listas:\n",
        "uma para os números pares;\n",
        "outra para os números ímpares.\n",
        "A seguir, mostre a porcentagem de pares e\n",
        "ímpares digitados.\n",
        "'''\n",
        "# Listas para armazenar números pares e ímpares\n",
        "pares = []\n",
        "impares = []\n",
        "\n",
        "# Contador para o total de números válidos\n",
        "total_numeros = 0\n",
        "\n",
        "# Loop para solicitar números até que um número negativo seja digitado\n",
        "while True:\n",
        "    # Solicita um número do usuário\n",
        "    numero = int(input(\"Digite um número positivo (ou um número negativo para terminar): \"))\n",
        "\n",
        "    # Se o número for negativo, termina o loop\n",
        "    if numero < 0:\n",
        "        break\n",
        "\n",
        "    # Verifica se o número é par ou ímpar e adiciona à lista correspondente\n",
        "    if numero % 2 == 0:\n",
        "        pares.append(numero)\n",
        "    else:\n",
        "        impares.append(numero)\n",
        "\n",
        "    # Incrementa o contador de números válidos\n",
        "    total_numeros += 1\n",
        "\n",
        "# Calculando as porcentagens de pares e ímpares\n",
        "if total_numeros > 0:\n",
        "    porcentagem_pares = (len(pares) / total_numeros) * 100\n",
        "    porcentagem_impares = (len(impares) / total_numeros) * 100\n",
        "\n",
        "    # Exibindo os resultados\n",
        "    print(f\"\\nTotal de números digitados: {total_numeros}\")\n",
        "    print(f\"Números pares: {len(pares)} ({porcentagem_pares:.2f}%)\")\n",
        "    print(f\"Números ímpares: {len(impares)} ({porcentagem_impares:.2f}%)\")\n",
        "else:\n",
        "    print(\"Nenhum número válido foi digitado.\")\n"
      ],
      "metadata": {
        "id": "fOv421DqvM6C"
      },
      "execution_count": null,
      "outputs": []
    },
    {
      "cell_type": "code",
      "source": [
        "'''\n",
        "TAREFA 6\n",
        "Faça um programa que solicita uma\n",
        "quantidade indefinida de números positivos\n",
        "(deve parar quando um número negativo for\n",
        "digitado).\n",
        "Armazene todos os números digitados em\n",
        "uma lista, sem repetição.\n",
        "'''\n",
        "\n",
        "# Criando lista vazia\n",
        "numeros = []\n",
        "\n",
        "print(\"Digite números positivos (digite um número negativo para encerrar):\")\n",
        "\n",
        "while True:\n",
        "    try:\n",
        "        n = int(input(\"Número: \"))\n",
        "\n",
        "        # Verifica se é negativo -> encerra o loop\n",
        "        if n < 0:\n",
        "            print(\"\\nEncerrando a coleta de números...\")\n",
        "            break\n",
        "\n",
        "        # Adiciona na lista se ainda não estiver presente\n",
        "        if n not in numeros:\n",
        "            numeros.append(n)\n",
        "        else:\n",
        "            print(\"Número repetido! Não será adicionado novamente.\")\n",
        "\n",
        "    except ValueError:\n",
        "        print(\"Por favor, digite apenas números inteiros.\")\n",
        "\n",
        "# Mostra o resultado final\n",
        "print(\"\\nLista final de números (sem repetição):\")\n",
        "print(numeros)\n"
      ],
      "metadata": {
        "id": "F0uOStwTv0HY"
      },
      "execution_count": null,
      "outputs": []
    },
    {
      "cell_type": "code",
      "source": [
        "'''\n",
        "TAREFA 7\n",
        "Escreva um programa que solicita que o\n",
        "usuário digite a altura e o peso de 5 pessoas.\n",
        "Verifique se pelo menos duas das pessoas\n",
        "tem a mesma altura e mesmo peso.\n",
        "'''\n",
        "# TAREFA: Verificar se pelo menos duas pessoas têm a mesma altura e o mesmo peso\n",
        "\n",
        "# Lista para armazenar (altura, peso) de cada pessoa\n",
        "pessoas = []\n",
        "\n",
        "print(\"Digite a altura e o peso de 5 pessoas:\")\n",
        "\n",
        "for i in range(1, 6):\n",
        "    print(f\"\\nPessoa {i}:\")\n",
        "    try:\n",
        "        altura = float(input(\"Altura (em metros): \"))\n",
        "        peso = float(input(\"Peso (em kg): \"))\n",
        "\n",
        "        # Armazena o par (altura, peso) como uma tupla\n",
        "        pessoas.append((altura, peso))\n",
        "\n",
        "    except ValueError:\n",
        "        print(\"Entrada inválida! Tente novamente.\")\n",
        "        exit()\n",
        "\n",
        "# Converte a lista em um conjunto para eliminar duplicatas\n",
        "pessoas_unicas = set(pessoas)\n",
        "\n",
        "# Se o conjunto for menor que a lista, há pelo menos um par repetido\n",
        "if len(pessoas_unicas) < len(pessoas):\n",
        "    print(\"\\n✅ Pelo menos duas pessoas têm a mesma altura e o mesmo peso!\")\n",
        "else:\n",
        "    print(\"\\n❌ Nenhuma pessoa tem altura e peso iguais.\")\n"
      ],
      "metadata": {
        "id": "CZBcaJorwz30"
      },
      "execution_count": null,
      "outputs": []
    },
    {
      "cell_type": "code",
      "source": [
        "'''\n",
        "TAREFA 8\n",
        "Faça um programa que solicita que o\n",
        "usuário digite o nome e a idade de diversas\n",
        "pessoas (o programa deve parar quando\n",
        "um nome vazio for informado).\n",
        "Retorne o nome da pessoa mais velha.\n",
        "'''\n",
        "# TAREFA 8 - Encontrar a pessoa mais velha\n",
        "\n",
        "# Lista para armazenar os dados das pessoas\n",
        "pessoas = []\n",
        "\n",
        "print(\"Digite o nome e a idade das pessoas (deixe o nome vazio para encerrar):\")\n",
        "\n",
        "while True:\n",
        "    nome = input(\"\\nNome: \").strip()\n",
        "\n",
        "    # Se o nome for vazio, encerra o programa\n",
        "    if nome == \"\":\n",
        "        print(\"\\nEncerrando a entrada de dados...\")\n",
        "        break\n",
        "\n",
        "    try:\n",
        "        idade = int(input(\"Idade: \"))\n",
        "        pessoas.append((nome, idade))\n",
        "    except ValueError:\n",
        "        print(\"Idade inválida! Digite um número inteiro.\")\n",
        "        continue\n",
        "\n",
        "# Verifica se alguém foi cadastrado\n",
        "if len(pessoas) == 0:\n",
        "    print(\"\\nNenhuma pessoa foi informada.\")\n",
        "else:\n",
        "    # Encontra a pessoa mais velha\n",
        "    pessoa_mais_velha = max(pessoas, key=lambda p: p[1])\n",
        "    print(f\"\\n👴 A pessoa mais velha é: {pessoa_mais_velha[0]} ({pessoa_mais_velha[1]} anos)\")\n"
      ],
      "metadata": {
        "id": "g-2OnB6ix3KG"
      },
      "execution_count": null,
      "outputs": []
    },
    {
      "cell_type": "code",
      "source": [],
      "metadata": {
        "id": "9L-yBk74yWiS"
      },
      "execution_count": null,
      "outputs": []
    }
  ],
  "metadata": {
    "colab": {
      "provenance": [],
      "authorship_tag": "ABX9TyNGomK1NsRbgxm1BH+TDl92",
      "include_colab_link": true
    },
    "kernelspec": {
      "display_name": "Python 3",
      "name": "python3"
    },
    "language_info": {
      "name": "python"
    }
  },
  "nbformat": 4,
  "nbformat_minor": 0
}