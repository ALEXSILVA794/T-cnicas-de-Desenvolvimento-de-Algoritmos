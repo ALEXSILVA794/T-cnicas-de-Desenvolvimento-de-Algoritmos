{
  "cells": [
    {
      "cell_type": "markdown",
      "metadata": {
        "id": "view-in-github",
        "colab_type": "text"
      },
      "source": [
        "<a href=\"https://colab.research.google.com/github/ALEXSILVA794/T-cnicas-de-Desenvolvimento-de-Algoritmos/blob/main/LISTADEEXERCICIOS_ALEX_PAULO_(1).ipynb\" target=\"_parent\"><img src=\"https://colab.research.google.com/assets/colab-badge.svg\" alt=\"Open In Colab\"/></a>"
      ]
    },
    {
      "cell_type": "markdown",
      "metadata": {
        "id": "2fMlnpl6RD4i"
      },
      "source": [
        "NOME: ALEX PAULO DA SILVA\n",
        "\n",
        "CURSO: SISTEMAS DE INFORMAÇÃO\n",
        "\n",
        "![download.png](data:image/png;base64,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)"
      ]
    },
    {
      "cell_type": "code",
      "source": [],
      "metadata": {
        "id": "zT5MjzyVVchk"
      },
      "execution_count": null,
      "outputs": []
    },
    {
      "cell_type": "code",
      "execution_count": null,
      "metadata": {
        "colab": {
          "base_uri": "https://localhost:8080/"
        },
        "id": "B8bnT8YOSDkb",
        "outputId": "79a4131b-fbec-49b5-d3bb-87279e351a65"
      },
      "outputs": [
        {
          "name": "stdout",
          "output_type": "stream",
          "text": [
            "Meu primeiro programa!!!\n"
          ]
        }
      ],
      "source": [
        "#Exercício n-1\n",
        "#1Escreva um programa que apresente na tela a frase: \"Meu primeiro programa!!!\"\n",
        "\n",
        "print(\"Meu primeiro programa!!!\")"
      ]
    },
    {
      "cell_type": "code",
      "execution_count": null,
      "metadata": {
        "colab": {
          "base_uri": "https://localhost:8080/"
        },
        "id": "DJyJ7cFfcRTx",
        "outputId": "2f82da8c-da3c-48cb-958e-441e7abe8bd9"
      },
      "outputs": [
        {
          "name": "stdout",
          "output_type": "stream",
          "text": [
            "Digite um número inteiro: \n",
            "7\n",
            "O número inteiro informado pelo usuário foi:  7\n"
          ]
        }
      ],
      "source": [
        "'''\n",
        "Exercício n-2\n",
        "Escreva um programa que solicite ao usuário um número inteiro e ao final apresente na tela\n",
        "o número informado pelo usuário do programa\n",
        "'''\n",
        "print (\"Digite um número inteiro: \")\n",
        "numero = int(input())\n",
        "print (f\"O número inteiro informado pelo usuário foi: \", numero)"
      ]
    },
    {
      "cell_type": "code",
      "execution_count": null,
      "metadata": {
        "colab": {
          "base_uri": "https://localhost:8080/"
        },
        "id": "TOq6EE3VwJO7",
        "outputId": "d2884cda-44be-494b-afe4-c09b64d89fc2"
      },
      "outputs": [
        {
          "name": "stdout",
          "output_type": "stream",
          "text": [
            "Digite um número inteiro: \n",
            "4\n",
            "Foi informado o valor:  4\n"
          ]
        }
      ],
      "source": [
        "'''\n",
        "Exercício n-3\n",
        "Escreva um programa que solicite ao usuário um número inteiro e ao final apresente na tela\n",
        "o número informado da seguinte forma: \"Foi informado o valor: X\"\n",
        "'''\n",
        "print (\"Digite um número inteiro: \")\n",
        "numero = int(input())\n",
        "print (f\"Foi informado o valor: \", numero)"
      ]
    },
    {
      "cell_type": "code",
      "execution_count": null,
      "metadata": {
        "colab": {
          "base_uri": "https://localhost:8080/"
        },
        "id": "vVYwXhXcxR4u",
        "outputId": "7eb7b0b2-939f-4495-b41f-37e7a4c2b6e2"
      },
      "outputs": [
        {
          "name": "stdout",
          "output_type": "stream",
          "text": [
            "Digite o primeiro número inteiro: \n",
            "6\n",
            "Digite o segundo número inteiro: \n",
            "9\n",
            "Voce informou os numeros 6 e 9.\n"
          ]
        }
      ],
      "source": [
        "'''\n",
        "Exercício n-4\n",
        "Escreva um programa que solicite ao usuário dois números inteiros e ao final apresente na\n",
        "tela os dois números informados da seguinte forma: \"Voce informou os numeros X e Y\"\n",
        "'''\n",
        "print (\"Digite o primeiro número inteiro: \")\n",
        "numero1 = int(input())\n",
        "print (\"Digite o segundo número inteiro: \")\n",
        "numero2 = int(input())\n",
        "print (f\"Voce informou os numeros {numero1} e {numero2}.\")"
      ]
    },
    {
      "cell_type": "code",
      "execution_count": null,
      "metadata": {
        "colab": {
          "base_uri": "https://localhost:8080/"
        },
        "id": "KjQeM2ejx2Yv",
        "outputId": "ec55f730-6231-40e4-d26c-34a33c456c02"
      },
      "outputs": [
        {
          "name": "stdout",
          "output_type": "stream",
          "text": [
            "Digite um número real: \n",
            "6\n",
            "Voce informou o numero 6.00\n"
          ]
        }
      ],
      "source": [
        "'''\n",
        "Exercício n-5\n",
        "Escreva um programa que solicite ao usuário um número real e ao final apresente na tela o\n",
        "número informado formatado com duas casas decimais da seguinte forma: \"Voce informou\n",
        "o numero X.YY\"\n",
        "\n",
        "'''\n",
        "print (\"Digite um número real: \")\n",
        "numero = float(input())\n",
        "print (f\"Voce informou o numero {numero:.2f}\")\n",
        "\n"
      ]
    },
    {
      "cell_type": "code",
      "execution_count": null,
      "metadata": {
        "colab": {
          "base_uri": "https://localhost:8080/"
        },
        "id": "fFAXKDHPyV1-",
        "outputId": "3f785e07-395c-4561-cb67-157e402a5e5f"
      },
      "outputs": [
        {
          "name": "stdout",
          "output_type": "stream",
          "text": [
            "Informe a temperatura em Celcius: \n",
            "23\n",
            "A temperatura em Farenheit é: 73.4\n"
          ]
        }
      ],
      "source": [
        "'''\n",
        "Exercício n-6\n",
        "Escreva um programa que solicite ao usuário a temperatura em graus Celsius e ao final\n",
        "apresente a temperatura correspondente em graus Farenheit. F = Celsius * 1.8 + 32\n",
        "\n",
        "'''\n",
        "print(\"Informe a temperatura em Celcius: \")\n",
        "celcius = float(input())\n",
        "farenheit = celcius * 1.8 + 32\n",
        "print (f\"A temperatura em Farenheit é: {farenheit:.1f}\")\n",
        "\n"
      ]
    },
    {
      "cell_type": "code",
      "execution_count": null,
      "metadata": {
        "colab": {
          "base_uri": "https://localhost:8080/"
        },
        "id": "P8Zvx9oO0AXo",
        "outputId": "14e5b5e8-6b03-419a-a26c-c93033a8dc8c"
      },
      "outputs": [
        {
          "name": "stdout",
          "output_type": "stream",
          "text": [
            "Digite um número inteiro: \n",
            "7\n",
            "Agora um número real: \n",
            "3.2\n",
            "Você informou os números 7 e 3.20\n"
          ]
        }
      ],
      "source": [
        "'''\n",
        "Exercício n-7\n",
        "Escreva um programa que solicite ao usuário um número inteiro e um número real e ao final\n",
        "apresente na tela os dois números informados formatando com duas casas decimais\n",
        "somente o número real da seguinte forma: \"Voce informou os numeros N e X.YY\"\n",
        "\n",
        "'''\n",
        "print(\"Digite um número inteiro: \")\n",
        "numero_inteiro = int(input())\n",
        "print (\"Agora um número real: \")\n",
        "numero_real = float(input())\n",
        "print(f\"Você informou os números {numero_inteiro} e {numero_real:.2f}\")"
      ]
    },
    {
      "cell_type": "code",
      "execution_count": null,
      "metadata": {
        "colab": {
          "base_uri": "https://localhost:8080/"
        },
        "id": "BC4hq05q1nM5",
        "outputId": "f4d3de07-dcf3-4a45-b850-b56fd36a7d87"
      },
      "outputs": [
        {
          "name": "stdout",
          "output_type": "stream",
          "text": [
            "Digite a primeira letra do seu nome: \n",
            "A\n",
            "Você digitou A\n"
          ]
        }
      ],
      "source": [
        "'''\n",
        "Exercício n-8\n",
        "Escreva um programa que solicite ao usuário a primeira letra de seu nome e ao final\n",
        "apresente na tela a letra informada pelo usuário da seguinte forma: \"Voce digitou w\"\n",
        "\n",
        "'''\n",
        "print(\"Digite a primeira letra do seu nome: \")\n",
        "letra = input()\n",
        "print(f\"Você digitou {letra}\")"
      ]
    },
    {
      "cell_type": "code",
      "execution_count": null,
      "metadata": {
        "colab": {
          "base_uri": "https://localhost:8080/"
        },
        "id": "_QmPaqgNk50r",
        "outputId": "0ad72e04-d88f-4170-c388-26075e0148e5"
      },
      "outputs": [
        {
          "name": "stdout",
          "output_type": "stream",
          "text": [
            "Digite o nome de sua cor preferida: \n",
            "Azul\n",
            "Você gosta da cor Azul\n"
          ]
        }
      ],
      "source": [
        "'''\n",
        "Exercício n-9\n",
        "Escreva um programa que solicite ao usuário o nome de sua cor preferida e ao final\n",
        "apresente na tela a cor informada pelo usuário da seguinte forma: \"Voce gosta da cor AAA\"\n",
        "\n",
        "'''\n",
        "print (\"Digite o nome de sua cor preferida: \")\n",
        "cor = input()\n",
        "print(f\"Você gosta da cor {cor}\")\n"
      ]
    },
    {
      "cell_type": "code",
      "execution_count": null,
      "metadata": {
        "colab": {
          "base_uri": "https://localhost:8080/"
        },
        "id": "2yW7m8DjmJmJ",
        "outputId": "a3a77154-5ea1-4eb5-e91d-c7499fcb4c5c"
      },
      "outputs": [
        {
          "name": "stdout",
          "output_type": "stream",
          "text": [
            "Digite o nome de uma verdura: \n",
            "Chuchu\n",
            "Digite o nome de uma fruta: \n",
            "melancia\n",
            "Você gosta de Chuchu e melancia\n"
          ]
        }
      ],
      "source": [
        "'''\n",
        "Exercício n-10\n",
        "Escreva um programa que solicite ao usuário o nome de uma verdura e uma fruta de sua\n",
        "preferencia e ao final apresente na tela as informações digitadas pelo usuário da seguinte\n",
        "forma: \"Voce gosta de AAAAAAA e BBBBBBB\"\n",
        "\n",
        "'''\n",
        "print (\"Digite o nome de uma verdura: \")\n",
        "verdura = input()\n",
        "print (\"Digite o nome de uma fruta: \")\n",
        "fruta = input()\n",
        "print(f\"Você gosta de {verdura} e {fruta}\")\n"
      ]
    },
    {
      "cell_type": "code",
      "execution_count": null,
      "metadata": {
        "colab": {
          "base_uri": "https://localhost:8080/"
        },
        "id": "qNt9Ud_xmwoA",
        "outputId": "a090a18c-8939-4211-823c-5e82846ed376"
      },
      "outputs": [
        {
          "name": "stdout",
          "output_type": "stream",
          "text": [
            "Digite um número real: \n",
            "4.5\n",
            "Número -> 4.5 \n",
            "Dobro deste número -> 9.0\n"
          ]
        }
      ],
      "source": [
        "'''\n",
        "Exercício n-11\n",
        "Elabore um algoritmo que solicite ao usuário um número real e ao final imprima na tela o\n",
        "numero informado e na linha de baixo o dobro deste número da seguinte forma:\n",
        "Numero -> X\n",
        "Dobro deste numero -> Y\n",
        "\n",
        "'''\n",
        "print (\"Digite um número real: \")\n",
        "numero = float(input())\n",
        "print (f\"Número -> {numero} \")\n",
        "dobro = numero * 2\n",
        "print (f\"Dobro deste número -> {dobro}\")\n"
      ]
    },
    {
      "cell_type": "code",
      "execution_count": null,
      "metadata": {
        "colab": {
          "base_uri": "https://localhost:8080/"
        },
        "id": "qcIUs6V8oEVw",
        "outputId": "624b1ad0-2252-47b7-ba9a-d08cda6fc5fa"
      },
      "outputs": [
        {
          "name": "stdout",
          "output_type": "stream",
          "text": [
            "Digite um número real: \n",
            "4\n",
            "Número -> 4.0 \n",
            "quadrado deste número -> 16.0\n",
            "cubo deste número -> 64.0\n"
          ]
        }
      ],
      "source": [
        "'''\n",
        "Exercício n-12\n",
        "Reescrever o programa anterior apresentando o quadrado e o cubo do número informado\n",
        "\n",
        "'''\n",
        "print (\"Digite um número real: \")\n",
        "numero = float(input())\n",
        "print (f\"Número -> {numero} \")\n",
        "quadrado = numero * numero\n",
        "cubo = numero * numero * numero\n",
        "print (f\"quadrado deste número -> {quadrado}\")\n",
        "print (f\"cubo deste número -> {cubo}\")\n"
      ]
    },
    {
      "cell_type": "code",
      "execution_count": null,
      "metadata": {
        "colab": {
          "base_uri": "https://localhost:8080/"
        },
        "id": "KrKtPsO6pRd3",
        "outputId": "34b54d01-0bed-46fe-ea62-620445d4e62d"
      },
      "outputs": [
        {
          "name": "stdout",
          "output_type": "stream",
          "text": [
            "Digite o primeiro número inteiro: \n",
            "80\n",
            "Digite o segundo número inteiro: \n",
            "120\n",
            "O número 80 e 120 somados correspondem a 200\n"
          ]
        }
      ],
      "source": [
        "'''\n",
        "Exercício n-13\n",
        "Escreva um programa que solicite ao usuário dois números inteiros e ao final apresente\n",
        "na tela a soma dos dois números informados da seguinte forma: \"O numeros N e X\n",
        "somados correspondem a Y\"\n",
        "\n",
        "'''\n",
        "print (\"Digite o primeiro número inteiro: \")\n",
        "numero1 = int(input())\n",
        "print (\"Digite o segundo número inteiro: \")\n",
        "numero2 = int(input())\n",
        "soma = numero1 + numero2\n",
        "print (f\"O número {numero1} e {numero2} somados correspondem a {soma}\")"
      ]
    },
    {
      "cell_type": "code",
      "execution_count": null,
      "metadata": {
        "colab": {
          "base_uri": "https://localhost:8080/"
        },
        "id": "z-QEOZbypzSr",
        "outputId": "e4780d9d-09f6-49b7-8f85-8c2fc5eb2785"
      },
      "outputs": [
        {
          "name": "stdout",
          "output_type": "stream",
          "text": [
            "Digite o primeiro número real: \n",
            "5.5\n",
            "Digite o segundo número real: \n",
            "5.5\n",
            "O produto dos números 5.5 e 5.5 corresponde a 30.25\n"
          ]
        }
      ],
      "source": [
        "'''\n",
        "Exercício n-14\n",
        "Escreva um programa que solicite ao usuário dois números reais e ao final apresente na\n",
        "tela o produto dos dois números informados da seguinte forma: \"O produto dos numeros N\n",
        "e X corresponde a Y\"\n",
        "\n",
        "'''\n",
        "print (\"Digite o primeiro número real: \")\n",
        "numero1 = float(input())\n",
        "print (\"Digite o segundo número real: \")\n",
        "numero2 = float(input())\n",
        "produto = numero1 * numero2\n",
        "print (f\"O produto dos números {numero1} e {numero2} corresponde a {produto}\")"
      ]
    },
    {
      "cell_type": "code",
      "execution_count": null,
      "metadata": {
        "colab": {
          "base_uri": "https://localhost:8080/"
        },
        "id": "nwSH3cLCqv2w",
        "outputId": "8497ba37-2617-4a8b-f5a9-5fdbd95cc56d"
      },
      "outputs": [
        {
          "name": "stdout",
          "output_type": "stream",
          "text": [
            "Digite o primeiro número real: \n",
            "24\n",
            "Digite o segundo número real: \n",
            "85\n",
            "A soma dos números 24.0 e 85.0 corresponde a 109.0\n",
            "A diferença dos números 24.0 e 85.0 corresponde a -61.0\n",
            "O produto dos números 24.0 e 85.0 corresponde a 2040.0\n",
            "O quociente dos números 24.0 e 85.0 corresponde a 0.2823529411764706\n"
          ]
        }
      ],
      "source": [
        "'''\n",
        "Exercício n-15\n",
        "Refazer o programa 14 realizando as quatro operações aritméticas básicas\n",
        "\n",
        "'''\n",
        "print (\"Digite o primeiro número real: \")\n",
        "numero1 = float(input())\n",
        "print (\"Digite o segundo número real: \")\n",
        "numero2 = float(input())\n",
        "soma = numero1 + numero2\n",
        "diferença = numero1 - numero2\n",
        "produto = numero1 * numero2\n",
        "quociente = numero1 / numero2\n",
        "print (f\"A soma dos números {numero1} e {numero2} corresponde a {soma}\")\n",
        "print (f\"A diferença dos números {numero1} e {numero2} corresponde a {diferença}\")\n",
        "print (f\"O produto dos números {numero1} e {numero2} corresponde a {produto}\")\n",
        "print (f\"O quociente dos números {numero1} e {numero2} corresponde a {quociente}\")"
      ]
    },
    {
      "cell_type": "code",
      "execution_count": null,
      "metadata": {
        "colab": {
          "base_uri": "https://localhost:8080/"
        },
        "id": "7CBijd3xBqeD",
        "outputId": "8db06f8f-f50b-4a8e-faa4-83440449b533"
      },
      "outputs": [
        {
          "name": "stdout",
          "output_type": "stream",
          "text": [
            "Digite o valor do seu salario fixo: \n",
            "500\n",
            "Digite o total vendido no mês: \n",
            "900\n",
            "Digite o percentual de comissão: \n",
            "15\n",
            "O seu salário bruto é de: 635.0\n"
          ]
        }
      ],
      "source": [
        "'''\n",
        "Exercício n-16\n",
        "Escreva um programa que solicite o valor fixo do salário de um vendedor, o total vendido\n",
        "no mês e o percentual de comissão do vendedor. Ao final apresentar o salário bruto.\n",
        "\n",
        "'''\n",
        "print (\"Digite o valor do seu salario fixo: \")\n",
        "salario_fixo = float(input())\n",
        "print (\"Digite o total vendido no mês: \")\n",
        "total_vendido = float(input())\n",
        "print (\"Digite o percentual de comissão: \")\n",
        "percentual = float(input())\n",
        "salario_bruto = salario_fixo + (total_vendido * percentual / 100)\n",
        "print (f\"O seu salário bruto é de: {salario_bruto}\")"
      ]
    },
    {
      "cell_type": "markdown",
      "metadata": {
        "id": "rQkYEgmtRxU6"
      },
      "source": [
        "NOME: ALEX PAULO DA SILVA\n",
        "\n",
        "CURSO: SISTEMA DE INFORMAÇÕES"
      ]
    },
    {
      "cell_type": "code",
      "execution_count": null,
      "metadata": {
        "colab": {
          "base_uri": "https://localhost:8080/"
        },
        "id": "LUULkb4DR97a",
        "outputId": "0487f3f2-e64c-4883-f93c-008fe5bb57a1"
      },
      "outputs": [
        {
          "name": "stdout",
          "output_type": "stream",
          "text": [
            "digite um número real: \n",
            "15\n",
            "o número informado é maior que 10\n"
          ]
        }
      ],
      "source": [
        "'''\n",
        "LISTA 2\n",
        "EXERCIO 1\n",
        "Elabore um programa que solicite ao usuário um número real e ao final imprima na tela se o\n",
        "número informado é maior que 10 (dez)\n",
        "'''\n",
        "print(\"digite um número real: \")\n",
        "numero=float(input())\n",
        "if numero > 10:\n",
        " print(\"o número informado é maior que 10\")"
      ]
    },
    {
      "cell_type": "code",
      "execution_count": null,
      "metadata": {
        "colab": {
          "base_uri": "https://localhost:8080/"
        },
        "id": "Xjm68crtUCDD",
        "outputId": "f214f5da-e893-4495-99a1-93555bd248ec"
      },
      "outputs": [
        {
          "name": "stdout",
          "output_type": "stream",
          "text": [
            "digite um número real: \n",
            "10\n",
            "o número informado é maior ou igual a 10(dez)\n"
          ]
        }
      ],
      "source": [
        "'''\n",
        "exercicio 2\n",
        "Escreva um programa que solicite ao usuário um número real e ao final imprima na tela se\n",
        "o número informado é maior ou igual a dez ou menor que 10(dez)\n",
        "'''\n",
        "print(\"digite um número real: \")\n",
        "numero=float(input())\n",
        "if numero >= 10:\n",
        "  print(\"o número informado é maior ou igual a 10(dez)\")\n",
        "else:\n",
        "    print(\"o número informado é menor que 10\")"
      ]
    },
    {
      "cell_type": "code",
      "execution_count": null,
      "metadata": {
        "colab": {
          "base_uri": "https://localhost:8080/"
        },
        "id": "FT35RxkgbrcV",
        "outputId": "6997dc48-52c0-4c58-b5a7-830bc8a90fbd"
      },
      "outputs": [
        {
          "name": "stdout",
          "output_type": "stream",
          "text": [
            "digite um número real: \n",
            "10\n",
            "o número informado é maior ou igual a 10(dez)\n"
          ]
        }
      ],
      "source": [
        "'''\n",
        "exercicio 3\n",
        "Elabore um algoritmo que solicite ao usuário um número real e ao final imprima na tela se o\n",
        "número informado é maior que dez, se é menor que dez, ou se é igual a dez\n",
        "'''\n",
        "print(\"digite um número real: \")\n",
        "numero=float(input())\n",
        "if numero >= 10:\n",
        "    print(\"o número informado é maior ou igual a 10(dez)\")\n",
        "elif numero <= 10:\n",
        "    print(\"o número informado é menor ou igual a 10\")\n"
      ]
    },
    {
      "cell_type": "code",
      "execution_count": null,
      "metadata": {
        "colab": {
          "base_uri": "https://localhost:8080/"
        },
        "id": "Euqu4SQDe-5j",
        "outputId": "292e4d9b-3aa9-4725-8088-b7b4c2cd8acd"
      },
      "outputs": [
        {
          "name": "stdout",
          "output_type": "stream",
          "text": [
            "digite um número real: \n",
            "-10\n",
            "o númeromé negativo\n"
          ]
        }
      ],
      "source": [
        "'''\n",
        "exercicio 4\n",
        "Elabore um algoritmo que solicite ao usuário um número real e ao final imprima na tela se o\n",
        "número informado é positivo, negativo ou nulo (zero)\n",
        "'''\n",
        "print(\"digite um número real: \")\n",
        "numero=float(input())\n",
        "if numero >= 1:\n",
        "  print(\"o número informado é positivo\")\n",
        "elif numero == 0:\n",
        "  print(\"o número informado é nulo\")\n",
        "else :\n",
        "  print(\"o númeromé negativo\")"
      ]
    },
    {
      "cell_type": "code",
      "execution_count": null,
      "metadata": {
        "colab": {
          "background_save": true,
          "base_uri": "https://localhost:8080/"
        },
        "id": "5Bje-_ovjUUf",
        "outputId": "89daaee3-5869-4466-caec-5ed370929a78"
      },
      "outputs": [
        {
          "name": "stdout",
          "output_type": "stream",
          "text": [
            "digite um número inteiro:\n",
            "o número 4 não é múltiplo de 3.\n"
          ]
        }
      ],
      "source": [
        "'''\n",
        "exercicio 5\n",
        "Elabore um algoritmo que leia um número inteiro e imprima uma das mensagens: é múltiplo\n",
        "de 3, ou, não é múltiplo de 3\n",
        "\n",
        "'''\n",
        "\n",
        "print(\"digite um número inteiro: \")\n",
        "numero=int(input())\n",
        "if numero % 3 == 0:\n",
        "  print(\"o número\", numero, \"é múltiplo de 3.\")\n"
      ]
    },
    {
      "cell_type": "code",
      "source": [
        "'''\n",
        "exercicio 6\n",
        "Refazer o exercício anterior, solicitando antes o múltiplo a ser testado\n",
        "'''\n",
        "numero=int(input(\"Digite um número inteiro:\"))\n",
        "multiplo = int(input(\"Digite o múltiplo que deseja testar:\"))\n",
        "if numero % multiplo == 0:\n",
        "  print(f\"{numero} é múltiplo de {multiplo}.\")\n",
        "else:\n",
        "  print(f\"{numero} não é múltiplo de {multiplo}.\")\n"
      ],
      "metadata": {
        "colab": {
          "base_uri": "https://localhost:8080/"
        },
        "id": "YYhgOoiVxc0B",
        "outputId": "273cad3c-1db5-415f-850a-15a6ae6c41bc"
      },
      "execution_count": null,
      "outputs": [
        {
          "output_type": "stream",
          "name": "stdout",
          "text": [
            "Digite um número inteiro:9\n",
            "Digite o múltiplo que deseja testar:5\n",
            "9 não é múltiplo de 5.\n"
          ]
        }
      ]
    },
    {
      "cell_type": "code",
      "source": [
        "'''\n",
        "exercicio 7\n",
        "Desenvolva um algoritmo que classifique um número inteiro fornecido pelo usuário como\n",
        "par ou ímpar\n",
        "'''\n",
        "numero=int(input(\"Digite um número inteiro:\" ))\n",
        "if numero % 2 == 0:\n",
        " print(f\"O número {numero} é PAR. \")\n",
        "else:\n",
        "  print(f\"O número {numero} é IMPAR. \")\n",
        "\n"
      ],
      "metadata": {
        "colab": {
          "base_uri": "https://localhost:8080/"
        },
        "id": "4l-DVQrp0c1f",
        "outputId": "f15f8608-8e5a-4636-b423-822bb7776bdc"
      },
      "execution_count": null,
      "outputs": [
        {
          "output_type": "stream",
          "name": "stdout",
          "text": [
            "Digite um número inteiro:3\n",
            "O número 3 é IMPAR. \n"
          ]
        }
      ]
    },
    {
      "cell_type": "code",
      "source": [
        "'''\n",
        "exercicio 8\n",
        "Elabore um algoritmo que leia um número, e se ele for maior do que 20, imprimir a metade\n",
        "desse número, caso contrário, imprimir o dobro do número\n",
        "'''\n",
        "numero = float(input(\"Digite um número: \"))\n",
        "\n",
        "if numero > 20:\n",
        " resultado  = numero / 2\n",
        " print(f\"O número é maior que 20. A metade de {numero} é {resultado}.\")\n",
        "else:\n",
        "    resultado = numero * 2\n",
        "    print(f\"O número é menor ou igual a 20. O dobro de {numero} é {resultado}.\")\n"
      ],
      "metadata": {
        "colab": {
          "base_uri": "https://localhost:8080/"
        },
        "id": "HgfaiEhO2Qtu",
        "outputId": "20d3a320-535e-42cb-cf0c-da09a69da392"
      },
      "execution_count": null,
      "outputs": [
        {
          "output_type": "stream",
          "name": "stdout",
          "text": [
            "Digite um número: 6\n",
            "O número é menor ou igual a 20. O dobro de 6.0 é 12.0.\n"
          ]
        }
      ]
    },
    {
      "cell_type": "code",
      "source": [
        "'''\n",
        "exercicio 9\n",
        "Elabore um algoritmo que leia dois números inteiros e realize a adição; caso o resultado\n",
        "seja maior que 10, imprima o quadrado do resultado, caso contrário, imprima a metade dele\n",
        "\n",
        "'''\n",
        "num1 = int(input(\"Digite o primeiro número inteiro: \"))\n",
        "num2 = int(input(\"Digite o segundo número inteiro: \"))\n",
        "\n",
        "# Soma dos números\n",
        "soma = num1 + num2\n",
        "\n",
        "# Verificação do resultado\n",
        "if soma > 10:\n",
        "    resultado = soma ** 2\n",
        "    print(f\"A soma é {soma}, que é maior que 10. O quadrado da soma é {resultado}.\")\n",
        "else:\n",
        "    resultado = soma / 2\n",
        "    print(f\"A soma é {soma}, que não é maior que 10. A metade da soma é {resultado}.\")\n",
        "\n"
      ],
      "metadata": {
        "colab": {
          "base_uri": "https://localhost:8080/"
        },
        "id": "T1A1I6rr4HqO",
        "outputId": "a4cc64a6-8d29-4803-9e0e-f74f781e2cfa"
      },
      "execution_count": null,
      "outputs": [
        {
          "output_type": "stream",
          "name": "stdout",
          "text": [
            "Digite o primeiro número inteiro: 8\n",
            "Digite o segundo número inteiro: 9\n",
            "A soma é 17, que é maior que 10. O quadrado da soma é 289.\n"
          ]
        }
      ]
    },
    {
      "cell_type": "code",
      "source": [
        "'''\n",
        "exercicio 10\n",
        "nota1 = float(input(\"Digite a nota da primeira prova (peso 2): \"))\n",
        "nota2 = float(input(\"Digite a nota da segunda prova (peso 3): \"))\n",
        "nota3 = float(input(\"Digite a nota da terceira prova (peso 5): \"))\n",
        "'''\n",
        "nota1 = float(input(\"Digite a nota da primeira prova (peso 2): \"))\n",
        "nota2 = float(input(\"Digite a nota da segunda prova (peso 3): \"))\n",
        "nota3 = float(input(\"Digite a nota da terceira prova (peso 5): \"))\n",
        "\n",
        "peso1 = 2\n",
        "peso2 = 3\n",
        "peso3 = 5\n",
        "\n",
        "media_final = (nota1 * peso1 + nota2 * peso2 + nota3 * peso3) / (peso1 + peso2 + peso3)\n",
        "\n",
        "if media_final >= 6.0:\n",
        "    print(f\"Média final: {media_final:.2f}. Aluno aprovado!\")\n",
        "else:\n",
        "    print(f\"Média final: {media_final:.2f}. Aluno reprovado.\")\n"
      ],
      "metadata": {
        "colab": {
          "base_uri": "https://localhost:8080/"
        },
        "id": "QPQay-iH6Y9d",
        "outputId": "02ef11a5-6ec9-4ebc-8433-58ce6a8f50ff"
      },
      "execution_count": null,
      "outputs": [
        {
          "output_type": "stream",
          "name": "stdout",
          "text": [
            "Digite a nota da primeira prova (peso 2): 56\n",
            "Digite a nota da segunda prova (peso 3): 52\n",
            "Digite a nota da terceira prova (peso 5): 58\n",
            "Média final: 55.80. Aluno aprovado!\n"
          ]
        }
      ]
    },
    {
      "cell_type": "code",
      "source": [
        "'''\n",
        "exercico 11\n",
        "Elabore um algoritmo que leia o nome e o peso de duas pessoas e imprima o nome da\n",
        "pessoa mais pesada\n",
        "\n",
        "'''\n",
        "nome1 = input(\"Digite o nome da primeira pessoa: \")\n",
        "peso1 = float(input(\"Digite o peso da primeira pessoa (kg): \"))\n",
        "\n",
        "nome2 = input(\"Digite o nome da segunda pessoa: \")\n",
        "peso2 = float(input(\"Digite o peso da segunda pessoa (kg): \"))\n",
        "\n",
        "if peso1 > peso2:\n",
        "    print(f\"A pessoa mais pesada é {nome1}, com {peso1} kg.\")\n",
        "elif peso2 > peso1:\n",
        "    print(f\"A pessoa mais pesada é {nome2}, com {peso2} kg.\")\n",
        "else:\n",
        "    print(f\"As duas pessoas têm o mesmo peso: {peso1} kg.\")\n"
      ],
      "metadata": {
        "colab": {
          "base_uri": "https://localhost:8080/"
        },
        "id": "bokGxCk56_uV",
        "outputId": "bfc26a9b-0bc9-4015-e6fb-72ffc0ace17f"
      },
      "execution_count": null,
      "outputs": [
        {
          "output_type": "stream",
          "name": "stdout",
          "text": [
            "Digite o nome da primeira pessoa: larah\n",
            "Digite o peso da primeira pessoa (kg): 58\n",
            "Digite o nome da segunda pessoa: hugo\n",
            "Digite o peso da segunda pessoa (kg): 45\n",
            "A pessoa mais pesada é larah, com 58.0 kg.\n"
          ]
        }
      ]
    },
    {
      "cell_type": "code",
      "source": [
        "'''\n",
        "exercico 12\n",
        "Elabore um algoritmo que indique se um número digitado está compreendido entre 20 e\n",
        "90, ou não\n",
        "\n",
        "'''\n",
        "\n",
        "numero = float(input(\"Digite um número: \"))\n",
        "\n",
        "if 20 <= numero <= 90:\n",
        "    print(f\"O número {numero} está entre 20 e 90.\")\n",
        "else:\n",
        "    print(f\"O número {numero} NÃO está entre 20 e 90.\")"
      ],
      "metadata": {
        "colab": {
          "base_uri": "https://localhost:8080/"
        },
        "id": "uW2Rj-QG7n9W",
        "outputId": "b49d0a45-5231-4e7e-d50f-0b1e8a54307e"
      },
      "execution_count": null,
      "outputs": [
        {
          "output_type": "stream",
          "name": "stdout",
          "text": [
            "Digite um número: 56\n",
            "O número 56.0 está entre 20 e 90.\n"
          ]
        }
      ]
    },
    {
      "cell_type": "code",
      "source": [
        "'''\n",
        "exercicio 13\n",
        "Elabore um algoritmo que leia dois números e imprima qual é maior, qual é menor, ou se\n",
        "são iguais\n",
        "'''\n",
        "\n",
        "num1 = float(input(\"Digite o primeiro número: \"))\n",
        "num2 = float(input(\"Digite o segundo número: \"))\n",
        "\n",
        "if num1 > num2:\n",
        "    print(f\"O maior número é {num1} e o menor é {num2}.\")\n",
        "elif num2 > num1:\n",
        "    print(f\"O maior número é {num2} e o menor é {num1}.\")\n",
        "else:\n",
        "    print(\"Os dois números são iguais.\")"
      ],
      "metadata": {
        "colab": {
          "base_uri": "https://localhost:8080/"
        },
        "id": "xKJMKnDv7_kc",
        "outputId": "bbc691b8-5f36-48e8-8b31-350e007561cb"
      },
      "execution_count": null,
      "outputs": [
        {
          "output_type": "stream",
          "name": "stdout",
          "text": [
            "Digite o primeiro número: 85\n",
            "Digite o segundo número: 54\n",
            "O maior número é 85.0 e o menor é 54.0.\n"
          ]
        }
      ]
    },
    {
      "cell_type": "code",
      "source": [
        "'''\n",
        "exercicio 14\n",
        "Escreva um programa em linguagem C que solicite ao usuário a média para aprovação\n",
        "em um curso e em seguida solicite ao usuário o nome, sexo e as 03 notas do aluno e ao\n",
        "final imprima a frase: \"O aluno XXXXX foi aprovado com media YY\" considerando o gênero\n",
        "do(a) aluno(a) e se foi aprovado(a) ou reprovado(a)\n",
        "'''\n",
        " ### Está em c só vai rodar no GDB COMPILIER ###\n",
        "\n",
        "#include <stdio.h>\n",
        "#include <string.h>\n",
        "\n",
        "int main() {\n",
        "    // Variáveis para armazenar nome, gênero e notas\n",
        "    char nome[50];\n",
        "    char genero[10];\n",
        "    int a1, a2, a3;\n",
        "    float media;\n",
        "\n",
        "    // Solicita o nome do(a) aluno(a)\n",
        "    printf(\"Informe seu nome: \");\n",
        "    scanf(\"%s\", nome);\n",
        "\n",
        "    // Solicita o gênero\n",
        "    printf(\"\\nMasculino\\nFeminino\\nInforme uma opcao acima: \");\n",
        "    scanf(\"%s\", genero);\n",
        "\n",
        "    // Solicita as notas\n",
        "    printf(\"Informe a nota da A1: \");\n",
        "    scanf(\"%d\", &a1);\n",
        "\n",
        "    printf(\"Informe a nota da A2: \");\n",
        "    scanf(\"%d\", &a2);\n",
        "\n",
        "    printf(\"Informe a nota da A3: \");\n",
        "    scanf(\"%d\", &a3);\n",
        "\n",
        "    // Calcula a média\n",
        "    media = (float)(a1 + a2 + a3) / 3;\n",
        "\n",
        "    // Verifica se o(a) aluno(a) foi aprovado(a) ou reprovado(a)\n",
        "    char status[20];\n",
        "    if (media > 6) {\n",
        "        strcpy(status, \"aprovado(a)\");\n",
        "    } else {\n",
        "        strcpy(status, \"reprovado(a)\");\n",
        "    }\n",
        "\n",
        "    // Imprime o resultado final\n",
        "    printf(\"O(a) aluno(a) %s, do genero %s, foi %s com a media de %.2f\\n\", nome, genero, status, media);\n",
        "\n",
        "    return 0;\n",
        "}"
      ],
      "metadata": {
        "colab": {
          "base_uri": "https://localhost:8080/",
          "height": 106
        },
        "id": "yrEM_YbchLXd",
        "outputId": "fffbea11-9917-4813-fd4f-7c370c0a765b"
      },
      "execution_count": 5,
      "outputs": [
        {
          "output_type": "error",
          "ename": "IndentationError",
          "evalue": "unexpected indent (ipython-input-3827591110.py, line 14)",
          "traceback": [
            "\u001b[0;36m  File \u001b[0;32m\"/tmp/ipython-input-3827591110.py\"\u001b[0;36m, line \u001b[0;32m14\u001b[0m\n\u001b[0;31m    int main() {\u001b[0m\n\u001b[0m    ^\u001b[0m\n\u001b[0;31mIndentationError\u001b[0m\u001b[0;31m:\u001b[0m unexpected indent\n"
          ]
        }
      ]
    },
    {
      "cell_type": "code",
      "source": [
        "'''\n",
        "lista 3\n",
        "exercicio 1\n",
        " Elabore um algoritmo que imprima na tela lado a lado o texto \"Hello World!\" 10 vezes\n",
        "\n",
        " '''\n",
        "print(\"Hello World! \" * 10)\n",
        "\n"
      ],
      "metadata": {
        "colab": {
          "base_uri": "https://localhost:8080/"
        },
        "id": "JjjtYZGJVg8b",
        "outputId": "94d95896-5140-41ec-cbc6-519cbabe14d3"
      },
      "execution_count": null,
      "outputs": [
        {
          "output_type": "stream",
          "name": "stdout",
          "text": [
            "Hello World! Hello World! Hello World! Hello World! Hello World! Hello World! Hello World! Hello World! Hello World! Hello World! \n"
          ]
        }
      ]
    },
    {
      "cell_type": "code",
      "source": [
        "'''\n",
        "exercicio 2\n",
        "Elabore um algoritmo que imprima na tela o texto \"Hello World!\" 10 vezes, um por linha.\n",
        "'''\n",
        "for _ in range(10):\n",
        "    print(\"Hello World!\")\n"
      ],
      "metadata": {
        "colab": {
          "base_uri": "https://localhost:8080/"
        },
        "id": "QQYddjRTWsjU",
        "outputId": "d7606179-b3a8-497c-d599-4e97c175cf1c"
      },
      "execution_count": null,
      "outputs": [
        {
          "output_type": "stream",
          "name": "stdout",
          "text": [
            "Hello World!\n",
            "Hello World!\n",
            "Hello World!\n",
            "Hello World!\n",
            "Hello World!\n",
            "Hello World!\n",
            "Hello World!\n",
            "Hello World!\n",
            "Hello World!\n",
            "Hello World!\n"
          ]
        }
      ]
    },
    {
      "cell_type": "code",
      "source": [
        "'''\n",
        "exercicio 3\n",
        "Elabore um algoritmo que imprima todos os números inteiros de 1 até 100 inclusive.\n",
        "'''\n",
        "\n",
        "for num in range(1, 101):\n",
        "    print(num)\n"
      ],
      "metadata": {
        "colab": {
          "base_uri": "https://localhost:8080/"
        },
        "id": "qw4uZbvhXOnT",
        "outputId": "b9c538b5-401c-45bc-c1e2-06a6469fd63d"
      },
      "execution_count": null,
      "outputs": [
        {
          "output_type": "stream",
          "name": "stdout",
          "text": [
            "1\n",
            "2\n",
            "3\n",
            "4\n",
            "5\n",
            "6\n",
            "7\n",
            "8\n",
            "9\n",
            "10\n",
            "11\n",
            "12\n",
            "13\n",
            "14\n",
            "15\n",
            "16\n",
            "17\n",
            "18\n",
            "19\n",
            "20\n",
            "21\n",
            "22\n",
            "23\n",
            "24\n",
            "25\n",
            "26\n",
            "27\n",
            "28\n",
            "29\n",
            "30\n",
            "31\n",
            "32\n",
            "33\n",
            "34\n",
            "35\n",
            "36\n",
            "37\n",
            "38\n",
            "39\n",
            "40\n",
            "41\n",
            "42\n",
            "43\n",
            "44\n",
            "45\n",
            "46\n",
            "47\n",
            "48\n",
            "49\n",
            "50\n",
            "51\n",
            "52\n",
            "53\n",
            "54\n",
            "55\n",
            "56\n",
            "57\n",
            "58\n",
            "59\n",
            "60\n",
            "61\n",
            "62\n",
            "63\n",
            "64\n",
            "65\n",
            "66\n",
            "67\n",
            "68\n",
            "69\n",
            "70\n",
            "71\n",
            "72\n",
            "73\n",
            "74\n",
            "75\n",
            "76\n",
            "77\n",
            "78\n",
            "79\n",
            "80\n",
            "81\n",
            "82\n",
            "83\n",
            "84\n",
            "85\n",
            "86\n",
            "87\n",
            "88\n",
            "89\n",
            "90\n",
            "91\n",
            "92\n",
            "93\n",
            "94\n",
            "95\n",
            "96\n",
            "97\n",
            "98\n",
            "99\n",
            "100\n"
          ]
        }
      ]
    },
    {
      "cell_type": "code",
      "source": [
        "'''\n",
        "exercicio 4\n",
        "Elabore um algoritmo que imprima 100 vezes o texto \"1- Hello World!\" com o número.\n",
        "'''\n",
        "for i in range(1, 101):\n",
        "    print(f\"{i}- Hello World!\")\n"
      ],
      "metadata": {
        "colab": {
          "base_uri": "https://localhost:8080/"
        },
        "id": "MH7AukoKXlEL",
        "outputId": "3c33c5ec-a235-4d06-f74c-fd2eec92b6ef"
      },
      "execution_count": null,
      "outputs": [
        {
          "output_type": "stream",
          "name": "stdout",
          "text": [
            "1- Hello World!\n",
            "2- Hello World!\n",
            "3- Hello World!\n",
            "4- Hello World!\n",
            "5- Hello World!\n",
            "6- Hello World!\n",
            "7- Hello World!\n",
            "8- Hello World!\n",
            "9- Hello World!\n",
            "10- Hello World!\n",
            "11- Hello World!\n",
            "12- Hello World!\n",
            "13- Hello World!\n",
            "14- Hello World!\n",
            "15- Hello World!\n",
            "16- Hello World!\n",
            "17- Hello World!\n",
            "18- Hello World!\n",
            "19- Hello World!\n",
            "20- Hello World!\n",
            "21- Hello World!\n",
            "22- Hello World!\n",
            "23- Hello World!\n",
            "24- Hello World!\n",
            "25- Hello World!\n",
            "26- Hello World!\n",
            "27- Hello World!\n",
            "28- Hello World!\n",
            "29- Hello World!\n",
            "30- Hello World!\n",
            "31- Hello World!\n",
            "32- Hello World!\n",
            "33- Hello World!\n",
            "34- Hello World!\n",
            "35- Hello World!\n",
            "36- Hello World!\n",
            "37- Hello World!\n",
            "38- Hello World!\n",
            "39- Hello World!\n",
            "40- Hello World!\n",
            "41- Hello World!\n",
            "42- Hello World!\n",
            "43- Hello World!\n",
            "44- Hello World!\n",
            "45- Hello World!\n",
            "46- Hello World!\n",
            "47- Hello World!\n",
            "48- Hello World!\n",
            "49- Hello World!\n",
            "50- Hello World!\n",
            "51- Hello World!\n",
            "52- Hello World!\n",
            "53- Hello World!\n",
            "54- Hello World!\n",
            "55- Hello World!\n",
            "56- Hello World!\n",
            "57- Hello World!\n",
            "58- Hello World!\n",
            "59- Hello World!\n",
            "60- Hello World!\n",
            "61- Hello World!\n",
            "62- Hello World!\n",
            "63- Hello World!\n",
            "64- Hello World!\n",
            "65- Hello World!\n",
            "66- Hello World!\n",
            "67- Hello World!\n",
            "68- Hello World!\n",
            "69- Hello World!\n",
            "70- Hello World!\n",
            "71- Hello World!\n",
            "72- Hello World!\n",
            "73- Hello World!\n",
            "74- Hello World!\n",
            "75- Hello World!\n",
            "76- Hello World!\n",
            "77- Hello World!\n",
            "78- Hello World!\n",
            "79- Hello World!\n",
            "80- Hello World!\n",
            "81- Hello World!\n",
            "82- Hello World!\n",
            "83- Hello World!\n",
            "84- Hello World!\n",
            "85- Hello World!\n",
            "86- Hello World!\n",
            "87- Hello World!\n",
            "88- Hello World!\n",
            "89- Hello World!\n",
            "90- Hello World!\n",
            "91- Hello World!\n",
            "92- Hello World!\n",
            "93- Hello World!\n",
            "94- Hello World!\n",
            "95- Hello World!\n",
            "96- Hello World!\n",
            "97- Hello World!\n",
            "98- Hello World!\n",
            "99- Hello World!\n",
            "100- Hello World!\n"
          ]
        }
      ]
    },
    {
      "cell_type": "code",
      "source": [
        "'''\n",
        "exercico 5\n",
        "Elabore um algoritmo que imprima todos os números decrescentes de 100 até 0 inclusive.\n",
        "'''\n",
        "\n",
        "for num in range(100, -1, -1):\n",
        "    print(num)"
      ],
      "metadata": {
        "colab": {
          "base_uri": "https://localhost:8080/"
        },
        "id": "i5FcWYWRYT6N",
        "outputId": "2b8b0884-047a-4a32-de71-f8aee7b3e5af"
      },
      "execution_count": null,
      "outputs": [
        {
          "output_type": "stream",
          "name": "stdout",
          "text": [
            "100\n",
            "99\n",
            "98\n",
            "97\n",
            "96\n",
            "95\n",
            "94\n",
            "93\n",
            "92\n",
            "91\n",
            "90\n",
            "89\n",
            "88\n",
            "87\n",
            "86\n",
            "85\n",
            "84\n",
            "83\n",
            "82\n",
            "81\n",
            "80\n",
            "79\n",
            "78\n",
            "77\n",
            "76\n",
            "75\n",
            "74\n",
            "73\n",
            "72\n",
            "71\n",
            "70\n",
            "69\n",
            "68\n",
            "67\n",
            "66\n",
            "65\n",
            "64\n",
            "63\n",
            "62\n",
            "61\n",
            "60\n",
            "59\n",
            "58\n",
            "57\n",
            "56\n",
            "55\n",
            "54\n",
            "53\n",
            "52\n",
            "51\n",
            "50\n",
            "49\n",
            "48\n",
            "47\n",
            "46\n",
            "45\n",
            "44\n",
            "43\n",
            "42\n",
            "41\n",
            "40\n",
            "39\n",
            "38\n",
            "37\n",
            "36\n",
            "35\n",
            "34\n",
            "33\n",
            "32\n",
            "31\n",
            "30\n",
            "29\n",
            "28\n",
            "27\n",
            "26\n",
            "25\n",
            "24\n",
            "23\n",
            "22\n",
            "21\n",
            "20\n",
            "19\n",
            "18\n",
            "17\n",
            "16\n",
            "15\n",
            "14\n",
            "13\n",
            "12\n",
            "11\n",
            "10\n",
            "9\n",
            "8\n",
            "7\n",
            "6\n",
            "5\n",
            "4\n",
            "3\n",
            "2\n",
            "1\n",
            "0\n"
          ]
        }
      ]
    },
    {
      "cell_type": "code",
      "source": [
        "'''\n",
        "exercicio 6\n",
        "Elabore um algoritmo que imprima todos os números pares inteiros de 1 até 1000.\n",
        "'''\n",
        "for num in range(2, 1001, 2):\n",
        "    print(num)\n"
      ],
      "metadata": {
        "colab": {
          "base_uri": "https://localhost:8080/"
        },
        "id": "LZnoaHMuY0J1",
        "outputId": "3e2eb689-b573-4239-eb60-ddc7b1c93c70",
        "collapsed": true
      },
      "execution_count": null,
      "outputs": [
        {
          "output_type": "stream",
          "name": "stdout",
          "text": [
            "2\n",
            "4\n",
            "6\n",
            "8\n",
            "10\n",
            "12\n",
            "14\n",
            "16\n",
            "18\n",
            "20\n",
            "22\n",
            "24\n",
            "26\n",
            "28\n",
            "30\n",
            "32\n",
            "34\n",
            "36\n",
            "38\n",
            "40\n",
            "42\n",
            "44\n",
            "46\n",
            "48\n",
            "50\n",
            "52\n",
            "54\n",
            "56\n",
            "58\n",
            "60\n",
            "62\n",
            "64\n",
            "66\n",
            "68\n",
            "70\n",
            "72\n",
            "74\n",
            "76\n",
            "78\n",
            "80\n",
            "82\n",
            "84\n",
            "86\n",
            "88\n",
            "90\n",
            "92\n",
            "94\n",
            "96\n",
            "98\n",
            "100\n",
            "102\n",
            "104\n",
            "106\n",
            "108\n",
            "110\n",
            "112\n",
            "114\n",
            "116\n",
            "118\n",
            "120\n",
            "122\n",
            "124\n",
            "126\n",
            "128\n",
            "130\n",
            "132\n",
            "134\n",
            "136\n",
            "138\n",
            "140\n",
            "142\n",
            "144\n",
            "146\n",
            "148\n",
            "150\n",
            "152\n",
            "154\n",
            "156\n",
            "158\n",
            "160\n",
            "162\n",
            "164\n",
            "166\n",
            "168\n",
            "170\n",
            "172\n",
            "174\n",
            "176\n",
            "178\n",
            "180\n",
            "182\n",
            "184\n",
            "186\n",
            "188\n",
            "190\n",
            "192\n",
            "194\n",
            "196\n",
            "198\n",
            "200\n",
            "202\n",
            "204\n",
            "206\n",
            "208\n",
            "210\n",
            "212\n",
            "214\n",
            "216\n",
            "218\n",
            "220\n",
            "222\n",
            "224\n",
            "226\n",
            "228\n",
            "230\n",
            "232\n",
            "234\n",
            "236\n",
            "238\n",
            "240\n",
            "242\n",
            "244\n",
            "246\n",
            "248\n",
            "250\n",
            "252\n",
            "254\n",
            "256\n",
            "258\n",
            "260\n",
            "262\n",
            "264\n",
            "266\n",
            "268\n",
            "270\n",
            "272\n",
            "274\n",
            "276\n",
            "278\n",
            "280\n",
            "282\n",
            "284\n",
            "286\n",
            "288\n",
            "290\n",
            "292\n",
            "294\n",
            "296\n",
            "298\n",
            "300\n",
            "302\n",
            "304\n",
            "306\n",
            "308\n",
            "310\n",
            "312\n",
            "314\n",
            "316\n",
            "318\n",
            "320\n",
            "322\n",
            "324\n",
            "326\n",
            "328\n",
            "330\n",
            "332\n",
            "334\n",
            "336\n",
            "338\n",
            "340\n",
            "342\n",
            "344\n",
            "346\n",
            "348\n",
            "350\n",
            "352\n",
            "354\n",
            "356\n",
            "358\n",
            "360\n",
            "362\n",
            "364\n",
            "366\n",
            "368\n",
            "370\n",
            "372\n",
            "374\n",
            "376\n",
            "378\n",
            "380\n",
            "382\n",
            "384\n",
            "386\n",
            "388\n",
            "390\n",
            "392\n",
            "394\n",
            "396\n",
            "398\n",
            "400\n",
            "402\n",
            "404\n",
            "406\n",
            "408\n",
            "410\n",
            "412\n",
            "414\n",
            "416\n",
            "418\n",
            "420\n",
            "422\n",
            "424\n",
            "426\n",
            "428\n",
            "430\n",
            "432\n",
            "434\n",
            "436\n",
            "438\n",
            "440\n",
            "442\n",
            "444\n",
            "446\n",
            "448\n",
            "450\n",
            "452\n",
            "454\n",
            "456\n",
            "458\n",
            "460\n",
            "462\n",
            "464\n",
            "466\n",
            "468\n",
            "470\n",
            "472\n",
            "474\n",
            "476\n",
            "478\n",
            "480\n",
            "482\n",
            "484\n",
            "486\n",
            "488\n",
            "490\n",
            "492\n",
            "494\n",
            "496\n",
            "498\n",
            "500\n",
            "502\n",
            "504\n",
            "506\n",
            "508\n",
            "510\n",
            "512\n",
            "514\n",
            "516\n",
            "518\n",
            "520\n",
            "522\n",
            "524\n",
            "526\n",
            "528\n",
            "530\n",
            "532\n",
            "534\n",
            "536\n",
            "538\n",
            "540\n",
            "542\n",
            "544\n",
            "546\n",
            "548\n",
            "550\n",
            "552\n",
            "554\n",
            "556\n",
            "558\n",
            "560\n",
            "562\n",
            "564\n",
            "566\n",
            "568\n",
            "570\n",
            "572\n",
            "574\n",
            "576\n",
            "578\n",
            "580\n",
            "582\n",
            "584\n",
            "586\n",
            "588\n",
            "590\n",
            "592\n",
            "594\n",
            "596\n",
            "598\n",
            "600\n",
            "602\n",
            "604\n",
            "606\n",
            "608\n",
            "610\n",
            "612\n",
            "614\n",
            "616\n",
            "618\n",
            "620\n",
            "622\n",
            "624\n",
            "626\n",
            "628\n",
            "630\n",
            "632\n",
            "634\n",
            "636\n",
            "638\n",
            "640\n",
            "642\n",
            "644\n",
            "646\n",
            "648\n",
            "650\n",
            "652\n",
            "654\n",
            "656\n",
            "658\n",
            "660\n",
            "662\n",
            "664\n",
            "666\n",
            "668\n",
            "670\n",
            "672\n",
            "674\n",
            "676\n",
            "678\n",
            "680\n",
            "682\n",
            "684\n",
            "686\n",
            "688\n",
            "690\n",
            "692\n",
            "694\n",
            "696\n",
            "698\n",
            "700\n",
            "702\n",
            "704\n",
            "706\n",
            "708\n",
            "710\n",
            "712\n",
            "714\n",
            "716\n",
            "718\n",
            "720\n",
            "722\n",
            "724\n",
            "726\n",
            "728\n",
            "730\n",
            "732\n",
            "734\n",
            "736\n",
            "738\n",
            "740\n",
            "742\n",
            "744\n",
            "746\n",
            "748\n",
            "750\n",
            "752\n",
            "754\n",
            "756\n",
            "758\n",
            "760\n",
            "762\n",
            "764\n",
            "766\n",
            "768\n",
            "770\n",
            "772\n",
            "774\n",
            "776\n",
            "778\n",
            "780\n",
            "782\n",
            "784\n",
            "786\n",
            "788\n",
            "790\n",
            "792\n",
            "794\n",
            "796\n",
            "798\n",
            "800\n",
            "802\n",
            "804\n",
            "806\n",
            "808\n",
            "810\n",
            "812\n",
            "814\n",
            "816\n",
            "818\n",
            "820\n",
            "822\n",
            "824\n",
            "826\n",
            "828\n",
            "830\n",
            "832\n",
            "834\n",
            "836\n",
            "838\n",
            "840\n",
            "842\n",
            "844\n",
            "846\n",
            "848\n",
            "850\n",
            "852\n",
            "854\n",
            "856\n",
            "858\n",
            "860\n",
            "862\n",
            "864\n",
            "866\n",
            "868\n",
            "870\n",
            "872\n",
            "874\n",
            "876\n",
            "878\n",
            "880\n",
            "882\n",
            "884\n",
            "886\n",
            "888\n",
            "890\n",
            "892\n",
            "894\n",
            "896\n",
            "898\n",
            "900\n",
            "902\n",
            "904\n",
            "906\n",
            "908\n",
            "910\n",
            "912\n",
            "914\n",
            "916\n",
            "918\n",
            "920\n",
            "922\n",
            "924\n",
            "926\n",
            "928\n",
            "930\n",
            "932\n",
            "934\n",
            "936\n",
            "938\n",
            "940\n",
            "942\n",
            "944\n",
            "946\n",
            "948\n",
            "950\n",
            "952\n",
            "954\n",
            "956\n",
            "958\n",
            "960\n",
            "962\n",
            "964\n",
            "966\n",
            "968\n",
            "970\n",
            "972\n",
            "974\n",
            "976\n",
            "978\n",
            "980\n",
            "982\n",
            "984\n",
            "986\n",
            "988\n",
            "990\n",
            "992\n",
            "994\n",
            "996\n",
            "998\n",
            "1000\n"
          ]
        }
      ]
    },
    {
      "cell_type": "code",
      "source": [
        "'''\n",
        "exercicio 7\n",
        "Elabore um algoritmo que imprima todos os números ímpares de 1000 até 0\n",
        "\n",
        "'''\n",
        "for numero in range(999, -1, -2):\n",
        "  print(numero)"
      ],
      "metadata": {
        "colab": {
          "base_uri": "https://localhost:8080/"
        },
        "id": "r4ZqKb8SO-MK",
        "outputId": "c512add0-0151-4f0c-e42a-422e7126a47a"
      },
      "execution_count": null,
      "outputs": [
        {
          "output_type": "stream",
          "name": "stdout",
          "text": [
            "999\n",
            "997\n",
            "995\n",
            "993\n",
            "991\n",
            "989\n",
            "987\n",
            "985\n",
            "983\n",
            "981\n",
            "979\n",
            "977\n",
            "975\n",
            "973\n",
            "971\n",
            "969\n",
            "967\n",
            "965\n",
            "963\n",
            "961\n",
            "959\n",
            "957\n",
            "955\n",
            "953\n",
            "951\n",
            "949\n",
            "947\n",
            "945\n",
            "943\n",
            "941\n",
            "939\n",
            "937\n",
            "935\n",
            "933\n",
            "931\n",
            "929\n",
            "927\n",
            "925\n",
            "923\n",
            "921\n",
            "919\n",
            "917\n",
            "915\n",
            "913\n",
            "911\n",
            "909\n",
            "907\n",
            "905\n",
            "903\n",
            "901\n",
            "899\n",
            "897\n",
            "895\n",
            "893\n",
            "891\n",
            "889\n",
            "887\n",
            "885\n",
            "883\n",
            "881\n",
            "879\n",
            "877\n",
            "875\n",
            "873\n",
            "871\n",
            "869\n",
            "867\n",
            "865\n",
            "863\n",
            "861\n",
            "859\n",
            "857\n",
            "855\n",
            "853\n",
            "851\n",
            "849\n",
            "847\n",
            "845\n",
            "843\n",
            "841\n",
            "839\n",
            "837\n",
            "835\n",
            "833\n",
            "831\n",
            "829\n",
            "827\n",
            "825\n",
            "823\n",
            "821\n",
            "819\n",
            "817\n",
            "815\n",
            "813\n",
            "811\n",
            "809\n",
            "807\n",
            "805\n",
            "803\n",
            "801\n",
            "799\n",
            "797\n",
            "795\n",
            "793\n",
            "791\n",
            "789\n",
            "787\n",
            "785\n",
            "783\n",
            "781\n",
            "779\n",
            "777\n",
            "775\n",
            "773\n",
            "771\n",
            "769\n",
            "767\n",
            "765\n",
            "763\n",
            "761\n",
            "759\n",
            "757\n",
            "755\n",
            "753\n",
            "751\n",
            "749\n",
            "747\n",
            "745\n",
            "743\n",
            "741\n",
            "739\n",
            "737\n",
            "735\n",
            "733\n",
            "731\n",
            "729\n",
            "727\n",
            "725\n",
            "723\n",
            "721\n",
            "719\n",
            "717\n",
            "715\n",
            "713\n",
            "711\n",
            "709\n",
            "707\n",
            "705\n",
            "703\n",
            "701\n",
            "699\n",
            "697\n",
            "695\n",
            "693\n",
            "691\n",
            "689\n",
            "687\n",
            "685\n",
            "683\n",
            "681\n",
            "679\n",
            "677\n",
            "675\n",
            "673\n",
            "671\n",
            "669\n",
            "667\n",
            "665\n",
            "663\n",
            "661\n",
            "659\n",
            "657\n",
            "655\n",
            "653\n",
            "651\n",
            "649\n",
            "647\n",
            "645\n",
            "643\n",
            "641\n",
            "639\n",
            "637\n",
            "635\n",
            "633\n",
            "631\n",
            "629\n",
            "627\n",
            "625\n",
            "623\n",
            "621\n",
            "619\n",
            "617\n",
            "615\n",
            "613\n",
            "611\n",
            "609\n",
            "607\n",
            "605\n",
            "603\n",
            "601\n",
            "599\n",
            "597\n",
            "595\n",
            "593\n",
            "591\n",
            "589\n",
            "587\n",
            "585\n",
            "583\n",
            "581\n",
            "579\n",
            "577\n",
            "575\n",
            "573\n",
            "571\n",
            "569\n",
            "567\n",
            "565\n",
            "563\n",
            "561\n",
            "559\n",
            "557\n",
            "555\n",
            "553\n",
            "551\n",
            "549\n",
            "547\n",
            "545\n",
            "543\n",
            "541\n",
            "539\n",
            "537\n",
            "535\n",
            "533\n",
            "531\n",
            "529\n",
            "527\n",
            "525\n",
            "523\n",
            "521\n",
            "519\n",
            "517\n",
            "515\n",
            "513\n",
            "511\n",
            "509\n",
            "507\n",
            "505\n",
            "503\n",
            "501\n",
            "499\n",
            "497\n",
            "495\n",
            "493\n",
            "491\n",
            "489\n",
            "487\n",
            "485\n",
            "483\n",
            "481\n",
            "479\n",
            "477\n",
            "475\n",
            "473\n",
            "471\n",
            "469\n",
            "467\n",
            "465\n",
            "463\n",
            "461\n",
            "459\n",
            "457\n",
            "455\n",
            "453\n",
            "451\n",
            "449\n",
            "447\n",
            "445\n",
            "443\n",
            "441\n",
            "439\n",
            "437\n",
            "435\n",
            "433\n",
            "431\n",
            "429\n",
            "427\n",
            "425\n",
            "423\n",
            "421\n",
            "419\n",
            "417\n",
            "415\n",
            "413\n",
            "411\n",
            "409\n",
            "407\n",
            "405\n",
            "403\n",
            "401\n",
            "399\n",
            "397\n",
            "395\n",
            "393\n",
            "391\n",
            "389\n",
            "387\n",
            "385\n",
            "383\n",
            "381\n",
            "379\n",
            "377\n",
            "375\n",
            "373\n",
            "371\n",
            "369\n",
            "367\n",
            "365\n",
            "363\n",
            "361\n",
            "359\n",
            "357\n",
            "355\n",
            "353\n",
            "351\n",
            "349\n",
            "347\n",
            "345\n",
            "343\n",
            "341\n",
            "339\n",
            "337\n",
            "335\n",
            "333\n",
            "331\n",
            "329\n",
            "327\n",
            "325\n",
            "323\n",
            "321\n",
            "319\n",
            "317\n",
            "315\n",
            "313\n",
            "311\n",
            "309\n",
            "307\n",
            "305\n",
            "303\n",
            "301\n",
            "299\n",
            "297\n",
            "295\n",
            "293\n",
            "291\n",
            "289\n",
            "287\n",
            "285\n",
            "283\n",
            "281\n",
            "279\n",
            "277\n",
            "275\n",
            "273\n",
            "271\n",
            "269\n",
            "267\n",
            "265\n",
            "263\n",
            "261\n",
            "259\n",
            "257\n",
            "255\n",
            "253\n",
            "251\n",
            "249\n",
            "247\n",
            "245\n",
            "243\n",
            "241\n",
            "239\n",
            "237\n",
            "235\n",
            "233\n",
            "231\n",
            "229\n",
            "227\n",
            "225\n",
            "223\n",
            "221\n",
            "219\n",
            "217\n",
            "215\n",
            "213\n",
            "211\n",
            "209\n",
            "207\n",
            "205\n",
            "203\n",
            "201\n",
            "199\n",
            "197\n",
            "195\n",
            "193\n",
            "191\n",
            "189\n",
            "187\n",
            "185\n",
            "183\n",
            "181\n",
            "179\n",
            "177\n",
            "175\n",
            "173\n",
            "171\n",
            "169\n",
            "167\n",
            "165\n",
            "163\n",
            "161\n",
            "159\n",
            "157\n",
            "155\n",
            "153\n",
            "151\n",
            "149\n",
            "147\n",
            "145\n",
            "143\n",
            "141\n",
            "139\n",
            "137\n",
            "135\n",
            "133\n",
            "131\n",
            "129\n",
            "127\n",
            "125\n",
            "123\n",
            "121\n",
            "119\n",
            "117\n",
            "115\n",
            "113\n",
            "111\n",
            "109\n",
            "107\n",
            "105\n",
            "103\n",
            "101\n",
            "99\n",
            "97\n",
            "95\n",
            "93\n",
            "91\n",
            "89\n",
            "87\n",
            "85\n",
            "83\n",
            "81\n",
            "79\n",
            "77\n",
            "75\n",
            "73\n",
            "71\n",
            "69\n",
            "67\n",
            "65\n",
            "63\n",
            "61\n",
            "59\n",
            "57\n",
            "55\n",
            "53\n",
            "51\n",
            "49\n",
            "47\n",
            "45\n",
            "43\n",
            "41\n",
            "39\n",
            "37\n",
            "35\n",
            "33\n",
            "31\n",
            "29\n",
            "27\n",
            "25\n",
            "23\n",
            "21\n",
            "19\n",
            "17\n",
            "15\n",
            "13\n",
            "11\n",
            "9\n",
            "7\n",
            "5\n",
            "3\n",
            "1\n"
          ]
        }
      ]
    },
    {
      "cell_type": "code",
      "source": [
        "'''\n",
        "exercicio 8\n",
        "Elabore um algoritmo que imprima a soma dos 100 primeiros números inteiros positivos.\n",
        "\n",
        "'''\n",
        "soma = 0\n",
        "for numero in range(1, 101):\n",
        "  soma += numero\n",
        "print(\"A soma dos 100 primeiros números é:\", soma)"
      ],
      "metadata": {
        "colab": {
          "base_uri": "https://localhost:8080/"
        },
        "id": "JUtpsGpMTcTW",
        "outputId": "983d4b9b-8787-422f-977b-a68dff9c5198"
      },
      "execution_count": null,
      "outputs": [
        {
          "output_type": "stream",
          "name": "stdout",
          "text": [
            "A soma dos 100 primeiros números é: 5050\n"
          ]
        }
      ]
    },
    {
      "cell_type": "code",
      "source": [
        "'''\n",
        "exercicio 9\n",
        "Elabore um algoritmo que solicite ao usuário um número inteiro que indicará a quantidade\n",
        "de vezes que o texto \"Hello World!\" será impresso na tela, um em cada linha.\n",
        "\n",
        "'''\n",
        "quantidade = int(input(\"Digite um número inteiro: \"))\n",
        "for i in range(quantidade):\n",
        "    print(\"Hello World!\")\n"
      ],
      "metadata": {
        "colab": {
          "base_uri": "https://localhost:8080/"
        },
        "id": "k9TfxSlvUooL",
        "outputId": "dfb2f5db-f6a4-4873-d719-061210f0e82b"
      },
      "execution_count": null,
      "outputs": [
        {
          "output_type": "stream",
          "name": "stdout",
          "text": [
            "Digite um número inteiro: 2\n",
            "Hello World!\n",
            "Hello World!\n"
          ]
        }
      ]
    },
    {
      "cell_type": "code",
      "source": [
        "'''\n",
        "exercicio 10\n",
        "Elabore um algoritmo que solicite ao usuário uma palavra e um número inteiro que\n",
        "indicará a quantidade de vezes que a palavra digitada será impressa na tela, um em cada\n",
        "linha.\n",
        "\n",
        "'''\n",
        "palavra = input(\"Digite uma palavra: \")\n",
        "quantidade = int(input(\"Digite um número inteiro: \"))\n",
        "for i in range(quantidade):\n",
        "  print(palavra)"
      ],
      "metadata": {
        "colab": {
          "base_uri": "https://localhost:8080/"
        },
        "id": "17Y0AaewVhtP",
        "outputId": "47abe50f-2b32-4428-ec90-19b09890e109"
      },
      "execution_count": null,
      "outputs": [
        {
          "output_type": "stream",
          "name": "stdout",
          "text": [
            "Digite uma palavra: amor\n",
            "Digite um número inteiro: 3\n",
            "amor\n",
            "amor\n",
            "amor\n"
          ]
        }
      ]
    },
    {
      "cell_type": "code",
      "source": [
        "'''\n",
        "exercicio 11\n",
        " Elabore um algoritmo que leia um número de entrada que indicará a quantidade de\n",
        "números a serem lidos. Em seguida, leia n números (conforme o valor informado\n",
        "anteriormente) e imprima a soma e a média aritmética dos números informados.\n",
        "\n",
        "'''\n",
        "n = int(input(\"Digite a quantidade de números que deseja informa: \"))\n",
        "soma = 0\n",
        "for i in range(n):\n",
        "  numero = float(input(f\"Digite o {i+1}º número: \"))\n",
        "  soma += numero\n",
        "media = soma / n if n > 0 else 0\n",
        "print(\"Soma dos números:\", soma)\n",
        "print(\"Média aritmética:\", media)\n"
      ],
      "metadata": {
        "colab": {
          "base_uri": "https://localhost:8080/"
        },
        "id": "e0poHLNyWPZ_",
        "outputId": "22fd1272-b216-479e-b1e0-531cf623af77"
      },
      "execution_count": null,
      "outputs": [
        {
          "output_type": "stream",
          "name": "stdout",
          "text": [
            "Digite a quantidade de números que deseja informa: 2\n",
            "Digite o 1º número: 45\n",
            "Digite o 2º número: 82\n",
            "Soma dos números: 127.0\n",
            "Média aritmética: 63.5\n"
          ]
        }
      ]
    },
    {
      "cell_type": "code",
      "source": [
        "'''\n",
        "exercicio 12\n",
        " Elabore um algoritmo que leia um número de entrada que indicará a quantidade de\n",
        "registros a serem lidos (N). Em seguida algoritmo deve solicitar o nome e idade de N\n",
        "pessoas e ao final apresentar o nome da pessoa mais velha.\n",
        "\n",
        "'''\n",
        "n = int(input(\"Digite a quantidade de pessoas: \"))\n",
        "nome_mais_velho = \"\"\n",
        "idade_mais_velho = -1\n",
        "for i in range(n):\n",
        "  nome = input(f\"Digite o nome da {i+1}ª pessoa: \")\n",
        "  idade = int(input(f\"Digite a idade de {nome}: \"))\n",
        "  if idade > idade_mais_velho:\n",
        "    idade_mais_velho = idade\n",
        "    nome_mais_velho = nome\n",
        "  print(\"A pessoa mais velha é:\", nome_mais_velho, \"com\", idade_mais_velho, \"anos.\")"
      ],
      "metadata": {
        "colab": {
          "base_uri": "https://localhost:8080/"
        },
        "id": "NVHphOU7YCmt",
        "outputId": "c39b34a7-4c16-4a39-a043-2998d62e967b"
      },
      "execution_count": null,
      "outputs": [
        {
          "output_type": "stream",
          "name": "stdout",
          "text": [
            "Digite a quantidade de pessoas: 4\n",
            "Digite o nome da 1ª pessoa: Larah\n",
            "Digite a idade de Larah: 12\n",
            "A pessoa mais velha é: Larah com 12 anos.\n",
            "Digite o nome da 2ª pessoa: Luis\n",
            "Digite a idade de Luis: 7\n",
            "A pessoa mais velha é: Larah com 12 anos.\n",
            "Digite o nome da 3ª pessoa: Lukas\n",
            "Digite a idade de Lukas: 10\n",
            "A pessoa mais velha é: Larah com 12 anos.\n",
            "Digite o nome da 4ª pessoa: Alex\n",
            "Digite a idade de Alex: 35\n",
            "A pessoa mais velha é: Alex com 35 anos.\n"
          ]
        }
      ]
    },
    {
      "cell_type": "code",
      "source": [
        "'''\n",
        "exercicio 13\n",
        "Elabore um algoritmo que leia um número de entrada que indicará a quantidade de\n",
        "registros a serem lidos (N). Em seguida algoritmo deve solicitar o sexo (M/F) e idade de N\n",
        "pessoas e ao final apresentar a média de idade de ambos os gêneros catalogados.\n",
        "\n",
        "'''\n",
        "# Lê a quantidade de registros\n",
        "n = int(input(\"Digite a quantidade de pessoas: \"))\n",
        "\n",
        "# Variáveis para acumular soma e contagem\n",
        "soma_m = 0\n",
        "soma_f = 0\n",
        "cont_m = 0\n",
        "cont_f = 0\n",
        "\n",
        "# Loop para leitura dos registros\n",
        "for i in range(n):\n",
        "    sexo = input(f\"Digite o sexo da {i+1}ª pessoa (M/F): \").strip().upper()\n",
        "    idade = int(input(f\"Digite a idade da {i+1}ª pessoa: \"))\n",
        "\n",
        "    if sexo == \"M\":\n",
        "        soma_m += idade\n",
        "        cont_m += 1\n",
        "    elif sexo == \"F\":\n",
        "        soma_f += idade\n",
        "        cont_f += 1\n",
        "    else:\n",
        "        print(\"⚠ Sexo inválido, registro ignorado.\")\n",
        "\n",
        "# Calcula médias (com prevenção de divisão por zero)\n",
        "media_m = soma_m / cont_m if cont_m > 0 else 0\n",
        "media_f = soma_f / cont_f if cont_f > 0 else 0\n",
        "\n",
        "# Exibe os resultados\n",
        "print(\"\\n--- Resultados ---\")\n",
        "if cont_m > 0:\n",
        "    print(\"Média de idade dos homens:\", media_m)\n",
        "else:\n",
        "    print(\"Nenhum homem registrado.\")\n",
        "\n",
        "if cont_f > 0:\n",
        "    print(\"Média de idade das mulheres:\", media_f)\n",
        "else:\n",
        "    print(\"Nenhuma mulher registrada.\")\n"
      ],
      "metadata": {
        "colab": {
          "base_uri": "https://localhost:8080/"
        },
        "id": "CHtrtQtQagsC",
        "outputId": "e0bdf4aa-2ac9-4dbd-8e42-db362bc26b79"
      },
      "execution_count": null,
      "outputs": [
        {
          "output_type": "stream",
          "name": "stdout",
          "text": [
            "Digite a quantidade de pessoas: 5\n",
            "Digite o sexo da 1ª pessoa (M/F): M\n",
            "Digite a idade da 1ª pessoa: 25\n",
            "Digite o sexo da 2ª pessoa (M/F): F\n",
            "Digite a idade da 2ª pessoa: 25\n",
            "Digite o sexo da 3ª pessoa (M/F): M\n",
            "Digite a idade da 3ª pessoa: 36\n",
            "Digite o sexo da 4ª pessoa (M/F): M\n",
            "Digite a idade da 4ª pessoa: 45\n",
            "Digite o sexo da 5ª pessoa (M/F): M\n",
            "Digite a idade da 5ª pessoa: 96\n",
            "\n",
            "--- Resultados ---\n",
            "Média de idade dos homens: 50.5\n",
            "Média de idade das mulheres: 25.0\n"
          ]
        }
      ]
    },
    {
      "cell_type": "code",
      "source": [
        "'''\n",
        "exercicio 14\n",
        "Elabore um algoritmo que solicite ao usuário 10 números reais e ao final apresente o\n",
        "maior e o menor deles\n",
        "'''\n",
        " #14. Elabore um algoritmo que solicite ao usuário 10 números reais e ao final apresente o\n",
        "#maior e o menor deles.\n",
        "\n",
        "print('Informe  a quantidade de 10 números reais')\n",
        "print('')\n",
        "\n",
        "\n",
        "#1. Declarei as variaveis e o range para 10 numeros\n",
        "max = 10\n",
        "maior_num = None\n",
        "menor_num = None\n",
        "\n",
        "#2. fiz um laço para informar os 10 valores solicitados\n",
        "\n",
        "for i in range(max):\n",
        "    print(f'Números informados {i+1} de {max}')\n",
        "    while True:\n",
        "        num = float(input(f'Informe o {i + 1}º número: '))\n",
        "        break\n",
        "\n",
        "\n",
        "#2.1 condição para dizer quem e o maior e quem e o menor numero\n",
        "\n",
        "    if maior_num is None or menor_num is None:\n",
        "        maior_num = num\n",
        "        menor_num = num\n",
        "    else:\n",
        "        if num > maior_num:\n",
        "            maior_num = num\n",
        "\n",
        "        if num < menor_num:\n",
        "            menor_num = num\n",
        "\n",
        "\n",
        "#3. painel de visualização do usuario com as informações\n",
        "\n",
        "print(\"\\n--- Resultados ---\")\n",
        "print(f\"O maior número digitado foi: {maior_num}\")\n",
        "print(f\"O menor número digitado foi: {menor_num}\")"
      ],
      "metadata": {
        "id": "FynRcBRXZbIR",
        "colab": {
          "base_uri": "https://localhost:8080/"
        },
        "outputId": "fe8bdf45-b55a-4cb4-9a7d-a8ffefb84590"
      },
      "execution_count": null,
      "outputs": [
        {
          "output_type": "stream",
          "name": "stdout",
          "text": [
            "Informe  a quantidade de 10 números reais\n",
            "\n",
            "Números informados 1 de 10\n"
          ]
        }
      ]
    },
    {
      "cell_type": "code",
      "source": [
        "'''\n",
        "Exercicio 15\n",
        "Elabore um algoritmo que solicite N números reais e quando o usuário informar o valor\n",
        "nulo 0 (zero) o programa ordene e mostre todos os números informados de forma crescente\n",
        "'''\n",
        "save_num = []\n",
        "print('Informe quantos numeros quiser, para encerra digite o numero \\'O\\' ')\n",
        "print('='*60)\n",
        "while True :\n",
        "    num = int(input('Informe um número: '))\n",
        "    num_real = float (num)\n",
        "    if num_real == 0:\n",
        "        break\n",
        "\n",
        "    save_num.append(num_real)\n",
        "\n",
        "if not save_num:\n",
        "    print (' Nenhum numero foi inserido para ordenar')\n",
        "else:\n",
        "    save_num.sort()\n",
        "\n",
        "\n",
        "print('='*60)\n",
        "print (' Aqui esta a lista com os número em ordem crescente')\n",
        "print('')\n",
        "for fim in save_num:\n",
        "    print(f'Os numeros informados foram {fim:.0f}')"
      ],
      "metadata": {
        "id": "RyopI07dk_DS"
      },
      "execution_count": null,
      "outputs": []
    },
    {
      "cell_type": "code",
      "source": [
        "'''\n",
        "Exercicio 16\n",
        "Escreva um programa que vá solicitando as idades dos alunos da sala até que todos\n",
        "sejam informados (perguntar ao usuário se deseja informar a idade do próximo aluno). Ao\n",
        "final apresentar a idade do mais novo, a idade do mais velho, Quantos alunos têm mais de\n",
        "18 anos, quantos alunos têm até 18 anos, a média aritmética e a mediana.\n",
        "'''\n",
        "# Lista para armazenar as idades\n",
        "idades = []\n",
        "\n",
        "# --- 1. Coleta das Idades (Usando 'while') ---\n",
        "# O loop 'while True' vai rodar indefinidamente até o 'break'\n",
        "while True:\n",
        "\n",
        "    entrada = input(\"Informe a idade do aluno: \")\n",
        "\n",
        "    # Condição de parada, e garantir que a idade é um número positivo\n",
        "    if entrada.lower() == 'parar':\n",
        "        break\n",
        "\n",
        "    try:\n",
        "        idade = int(entrada)\n",
        "        print(\"Digite 'parar' quando terminar.\")\n",
        "        if idade > 0 and idade <= 120:\n",
        "            idades.append(idade)\n",
        "        else:\n",
        "            print(\"Entrada Indevida. Por favor, insira uma idade valida até 120 anos.\")\n",
        "    except ValueError:\n",
        "        print(\"Entrada inválida. Por favor, insira um número ou 'parar'.\")\n",
        "\n",
        "# Variável para contar o número total de alunos\n",
        "total_alunos = 0\n",
        "\n",
        "# Usei o 'for' para contar o total (substitui len(idades))\n",
        "for idade in idades:\n",
        "    total_alunos += 1\n",
        "\n",
        "# Se a lista estiver vazia, encerra apos digitar 'parar'\n",
        "if total_alunos == 0:\n",
        "    print(\"\\nNenhuma idade foi informada. Encerrando o programa.\")\n",
        "\n",
        "    # Usando a função 'exit()' para parar o sistema sem a necessidade de uma função\n",
        "    exit()\n",
        "\n",
        "\n",
        "# Mais Novo e Mais Velho (Substituindo min/max)\n",
        "idade_mais_novo = idades[0]  # Assume que o primeiro é o menor\n",
        "idade_mais_velho = idades[0] # Assume que o primeiro é o maior\n",
        "\n",
        "# Loop 'for' para encontrar o menor e o maior\n",
        "for idade in idades:\n",
        "    if idade < idade_mais_novo:\n",
        "        idade_mais_novo = idade\n",
        "    if idade > idade_mais_velho:\n",
        "        idade_mais_velho = idade\n",
        "\n",
        "#Contagem de Alunos (>18 e <=18)\n",
        "cont_maiores_18 = 0\n",
        "cont_menores_ou_igual_18 = 0\n",
        "\n",
        "# Loop 'for' para contagem\n",
        "for idade in idades:\n",
        "    if idade > 18:\n",
        "        cont_maiores_18 += 1\n",
        "    else:\n",
        "        cont_menores_ou_igual_18 += 1\n",
        "\n",
        "# Média Aritmética\n",
        "soma_idades = 0\n",
        "\n",
        "# Loop 'for' para somar todas as idades\n",
        "for idade in idades:\n",
        "    soma_idades += idade\n",
        "\n",
        "\n",
        "# Mediana (Substituindo sorted())\n",
        "media_aritmetica = soma_idades / total_alunos\n",
        "\n",
        "# Implementação manual do Bubble Sort (o método de ordenação mais simples)\n",
        "n = total_alunos\n",
        "\n",
        "# Uma cópia da lista para ordenação (para não alterar a original)\n",
        "idades_ordenadas = idades[:]\n",
        "\n",
        "# Dois loops 'for' aninhados para ordenar a lista\n",
        "for i in range(n):\n",
        "    for j in range(0, n-i-1):\n",
        "        if idades_ordenadas[j] > idades_ordenadas[j+1]:\n",
        "            # Troca de posição\n",
        "            temp = idades_ordenadas[j]\n",
        "            idades_ordenadas[j] = idades_ordenadas[j+1]\n",
        "            idades_ordenadas[j+1] = temp\n",
        "\n",
        "# Cálculo da Mediana\n",
        "if n % 2 == 1:\n",
        "    # Ímpar: Mediana é o elemento do meio (o índice é n // 2)\n",
        "    mediana = idades_ordenadas[n // 2]\n",
        "else:\n",
        "    # Par: Mediana é a média dos dois elementos do meio\n",
        "    # Os índices são n // 2 - 1 e n // 2\n",
        "    meio_1 = idades_ordenadas[n // 2 - 1]\n",
        "    meio_2 = idades_ordenadas[n // 2]\n",
        "    mediana = (meio_1 + meio_2) / 2\n",
        "\n",
        "# --- 3. Apresentação dos Resultados ---\n",
        "\n",
        "print(\"\\n\" + \"=\"*40)\n",
        "print(\"           RESULTADOS FINAIS\")\n",
        "print(\"=\"*40)\n",
        "print(f\"Total de alunos informados: {total_alunos}\")\n",
        "print(\"-\" * 40)\n",
        "\n",
        "print(f\"Idade do Mais Novo: {idade_mais_novo} anos\")\n",
        "print(f\"Idade do Mais Velho: {idade_mais_velho} anos\")\n",
        "\n",
        "print(\"-\" * 40)\n",
        "\n",
        "print(f\"Alunos com mais de 18 anos: {cont_maiores_18}\")\n",
        "print(f\"Alunos com até 18 anos: {cont_menores_ou_igual_18}\")\n",
        "\n",
        "print(\"-\" * 40)\n",
        "\n",
        "print(f\"A média aritmética das idades: {media_aritmetica:.2f} anos\")\n",
        "print(f\"A mediana das idades: {mediana:.2f} anos\")\n",
        "print(\"=\"*40)"
      ],
      "metadata": {
        "id": "yjgYFBWWmXTp"
      },
      "execution_count": null,
      "outputs": []
    }
  ],
  "metadata": {
    "colab": {
      "provenance": [],
      "include_colab_link": true
    },
    "kernelspec": {
      "display_name": "Python 3",
      "name": "python3"
    },
    "language_info": {
      "name": "python"
    }
  },
  "nbformat": 4,
  "nbformat_minor": 0
}