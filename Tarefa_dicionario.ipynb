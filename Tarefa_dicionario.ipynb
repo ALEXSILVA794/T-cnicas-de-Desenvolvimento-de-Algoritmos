{
  "nbformat": 4,
  "nbformat_minor": 0,
  "metadata": {
    "colab": {
      "provenance": [],
      "authorship_tag": "ABX9TyOVCWA3Aq+fQ4RoBSfkbYtG",
      "include_colab_link": true
    },
    "kernelspec": {
      "name": "python3",
      "display_name": "Python 3"
    },
    "language_info": {
      "name": "python"
    }
  },
  "cells": [
    {
      "cell_type": "markdown",
      "metadata": {
        "id": "view-in-github",
        "colab_type": "text"
      },
      "source": [
        "<a href=\"https://colab.research.google.com/github/ALEXSILVA794/T-cnicas-de-Desenvolvimento-de-Algoritmos/blob/main/Tarefa_dicionario.ipynb\" target=\"_parent\"><img src=\"https://colab.research.google.com/assets/colab-badge.svg\" alt=\"Open In Colab\"/></a>"
      ]
    },
    {
      "cell_type": "markdown",
      "source": [
        "#NOME: ALEX PAULO DA SILVA\n",
        "\n",
        "#CURSO: SISTEMA DE INFORMÇÕES\n",
        "\n",
        "#DISCIPLINA: TÉCNICAS DE DESENVOLVIMENTO DE ALGORITIMOS"
      ],
      "metadata": {
        "id": "c0P2iMPE-CEO"
      }
    },
    {
      "cell_type": "code",
      "execution_count": null,
      "metadata": {
        "id": "B9lChfXn1z1I"
      },
      "outputs": [],
      "source": [
        "'''\n",
        "Exercicios\n",
        "TAREFA 1\n",
        "Dado o dicionário ao lado, imprima os\n",
        "seguintes dados:\n",
        "Quantos alunos existem?\n",
        "Alguém tirou nota zero?\n",
        "Qual foi a menor nota?\n",
        "Qual foi a maior nota?\n",
        "alunos = {\"Alice\": 8.5, \"Bruno\": 7.8, \"Carla\": 9.2, \"Diego\": 6.9, \"Eva\": 8.0, \"Fernando\": 7.5, \"Gabriela\": 9.0, \"Henrique\": 6.7, \"Isabela\": 8.3, \"João\": 7.2}\n",
        "Quantos alunos existem?\n",
        "Alguém tirou nota zero?\n",
        "Qual foi a menor nota?\n",
        "Qual foi a maior nota?\n",
        "'''\n",
        "# Dicionário de alunos e suas notas\n",
        "alunos = {\n",
        "    \"Alice\": 8.5, \"Bruno\": 7.8, \"Carla\": 9.2, \"Diego\": 6.9, \"Eva\": 8.0,\n",
        "    \"Fernando\": 7.5, \"Gabriela\": 9.0, \"Henrique\": 6.7, \"Isabela\": 8.3, \"João\": 7.2\n",
        "}\n",
        "\n",
        "# Quantos alunos existem?\n",
        "total_alunos = len(alunos)\n",
        "print(f\"✅ Quantos alunos existem? {total_alunos}\")\n",
        "\n",
        "# Alguém tirou nota zero?\n",
        "nota_zero = 0 in alunos.values()\n",
        "print(f\"✅ Alguém tirou nota zero? {'Sim' if nota_zero else 'Não'}\")\n",
        "\n",
        "# Qual foi a menor nota?\n",
        "menor_nota = min(alunos.values())\n",
        "print(f\"✅ Qual foi a menor nota? {menor_nota}\")\n",
        "\n",
        "# Qual foi a maior nota?\n",
        "maior_nota = max(alunos.values())\n",
        "print(f\"✅ Qual foi a maior nota? {maior_nota}\")\n"
      ]
    },
    {
      "cell_type": "code",
      "source": [
        "'''\n",
        "TAREFA 2\n",
        "Dado o dicionário ao lado:\n",
        "\n",
        "animes = { \"Naruto\": 220, \"Jujutsu Kaisen\": 47, \"Dragon Ball Z\": 291, \"Death Note\": 37, \"Fullmetal Alchemist\": 64, \"Evangelion\": 26, \"Berserk\": 25, \"Code Geass\": 50, \"Akame ga Kill!\": 24, \"Elfen Lied\": 13}\n",
        "Imprima o total de episódios\n",
        "Substitua a quantidade de episódios pelo percentual (ep_anime/ep_total)\n",
        "Imprima nome e percentual de cadaanime, em ordem decrescente depercentual\n",
        "'''\n",
        "# Dicionário de animes com número de episódios\n",
        "animes = {\n",
        "    \"Naruto\": 220, \"Jujutsu Kaisen\": 47, \"Dragon Ball Z\": 291,\n",
        "    \"Death Note\": 37, \"Fullmetal Alchemist\": 64, \"Evangelion\": 26,\n",
        "    \"Berserk\": 25, \"Code Geass\": 50, \"Akame ga Kill!\": 24, \"Elfen Lied\": 13\n",
        "}\n",
        "\n",
        "# 1️⃣ Calcular o total de episódios\n",
        "total_episodios = sum(animes.values())\n",
        "print(f\"✅ Total de episódios: {total_episodios}\")\n",
        "\n",
        "# 2️⃣ Substituir a quantidade de episódios pelo percentual\n",
        "animes_percentual = {anime: (ep / total_episodios) * 100 for anime, ep in animes.items()}\n",
        "\n",
        "# 3️⃣ Ordenar por percentual em ordem decrescente\n",
        "animes_ordenados = dict(sorted(animes_percentual.items(), key=lambda item: item[1], reverse=True))\n",
        "\n",
        "# 4️⃣ Imprimir nome e percentual\n",
        "print(\"\\n✅ Percentual de episódios por anime (em ordem decrescente):\")\n",
        "for anime, percentual in animes_ordenados.items():\n",
        "    print(f\"{anime}: {percentual:.2f}%\")\n"
      ],
      "metadata": {
        "id": "T2mW9IJj3-L-"
      },
      "execution_count": null,
      "outputs": []
    },
    {
      "cell_type": "code",
      "source": [
        "'''\n",
        "TAREFA 3\n",
        "Dado o dicionário ao lado:\n",
        "\n",
        "bandas = {\n",
        "\"Gangrena Gasosa\":\n",
        "[{\"álbum\": \"Gente Ruim Só Manda Lembrança Pra Quem Não Presta\", \"ano\":\n",
        "2019}, {\"álbum\": \"Se Deus É 10, Satanás É 666\", \"ano\": 1999}, {\"álbum\": \"Welcome to the Macumba\", \"ano\": 1993}],\n",
        "\"Rogério Skylab\": [{\"álbum\": \"Nas Portas do Cu\", \"ano\": 2023}, {\"álbum\": \"Crítica da Faculdade do Cu\", \"ano\": 2021}, {\"álbum\": \"Cosmos\", \"ano\": 2019}],\n",
        "\"Garotos Podres\": [{\"álbum\": \"Canções para Ninar\", \"ano\": 2003},\n",
        "{\"álbum\": \"Com a Corda Toda\", \"ano\": 1997}, {\"álbum\": \"Rock de Subúrbio\", \"ano\": 1995}],\n",
        "\"Massacration\": [{\"álbum\": \"Live Metal Espancation\", \"ano\": 2017}, {\"álbum\": \"Good Blood Headbanguers\", \"ano\": 2009},{\"álbum\": \"Gates of Metal Fried Chicken of Death\", \"ano\": 2005}],\n",
        "\"Raimundos\": [{\"álbum\": \"Cantigas de Roda\", \"ano\": 2014}, {\"álbum\": \"Roda Viva\", \"ano\": 2006},{\"álbum\": \"Éramos 4\", \"ano\": 2001}]\n",
        "\n",
        "Imprima o álbum mais antigo\n",
        "imprima a banda que tem o maior\n",
        "intervalo entre os álbuns\n",
        "Imprima todos os álbuns do mais novo\n",
        "para o mais antigo, dizendo também o\n",
        "nome da banda\n",
        "'''\n",
        "# Dicionário de bandas e álbuns\n",
        "bandas = {\n",
        "    \"Gangrena Gasosa\": [\n",
        "        {\"álbum\": \"Gente Ruim Só Manda Lembrança Pra Quem Não Presta\", \"ano\": 2019},\n",
        "        {\"álbum\": \"Se Deus É 10, Satanás É 666\", \"ano\": 1999},\n",
        "        {\"álbum\": \"Welcome to the Macumba\", \"ano\": 1993}\n",
        "    ],\n",
        "    \"Rogério Skylab\": [\n",
        "        {\"álbum\": \"Nas Portas do Cu\", \"ano\": 2023},\n",
        "        {\"álbum\": \"Crítica da Faculdade do Cu\", \"ano\": 2021},\n",
        "        {\"álbum\": \"Cosmos\", \"ano\": 2019}\n",
        "    ],\n",
        "    \"Garotos Podres\": [\n",
        "        {\"álbum\": \"Canções para Ninar\", \"ano\": 2003},\n",
        "        {\"álbum\": \"Com a Corda Toda\", \"ano\": 1997},\n",
        "        {\"álbum\": \"Rock de Subúrbio\", \"ano\": 1995}\n",
        "    ],\n",
        "    \"Massacration\": [\n",
        "        {\"álbum\": \"Live Metal Espancation\", \"ano\": 2017},\n",
        "        {\"álbum\": \"Good Blood Headbanguers\", \"ano\": 2009},\n",
        "        {\"álbum\": \"Gates of Metal Fried Chicken of Death\", \"ano\": 2005}\n",
        "    ],\n",
        "    \"Raimundos\": [\n",
        "        {\"álbum\": \"Cantigas de Roda\", \"ano\": 2014},\n",
        "        {\"álbum\": \"Roda Viva\", \"ano\": 2006},\n",
        "        {\"álbum\": \"Éramos 4\", \"ano\": 2001}\n",
        "    ]\n",
        "}\n",
        "\n",
        "# 1️⃣ Encontrar o álbum mais antigo\n",
        "todos_albuns = [(banda, a[\"álbum\"], a[\"ano\"]) for banda, albuns in bandas.items() for a in albuns]\n",
        "album_mais_antigo = min(todos_albuns, key=lambda x: x[2])\n",
        "print(f\"✅ Álbum mais antigo: {album_mais_antigo[1]} ({album_mais_antigo[2]}) da banda {album_mais_antigo[0]}\")\n",
        "\n",
        "# 2️⃣ Banda com maior intervalo entre os álbuns\n",
        "intervalos = {}\n",
        "for banda, albuns in bandas.items():\n",
        "    anos = [a[\"ano\"] for a in albuns]\n",
        "    intervalo = max(anos) - min(anos)\n",
        "    intervalos[banda] = intervalo\n",
        "\n",
        "banda_maior_intervalo = max(intervalos, key=intervalos.get)\n",
        "print(f\"✅ Banda com maior intervalo entre álbuns: {banda_maior_intervalo} ({intervalos[banda_maior_intervalo]} anos)\")\n",
        "\n",
        "# 3️⃣ Imprimir todos os álbuns do mais novo para o mais antigo\n",
        "albuns_ordenados = sorted(todos_albuns, key=lambda x: x[2], reverse=True)\n",
        "print(\"\\n✅ Todos os álbuns do mais novo para o mais antigo:\")\n",
        "for banda, album, ano in albuns_ordenados:\n",
        "    print(f\"{album} ({ano}) - {banda}\")\n"
      ],
      "metadata": {
        "colab": {
          "base_uri": "https://localhost:8080/"
        },
        "id": "aw5f-6p_5zQ9",
        "outputId": "c37d272f-658d-4963-fbb3-04ebc89c0530"
      },
      "execution_count": 1,
      "outputs": [
        {
          "output_type": "stream",
          "name": "stdout",
          "text": [
            "✅ Álbum mais antigo: Welcome to the Macumba (1993) da banda Gangrena Gasosa\n",
            "✅ Banda com maior intervalo entre álbuns: Gangrena Gasosa (26 anos)\n",
            "\n",
            "✅ Todos os álbuns do mais novo para o mais antigo:\n",
            "Nas Portas do Cu (2023) - Rogério Skylab\n",
            "Crítica da Faculdade do Cu (2021) - Rogério Skylab\n",
            "Gente Ruim Só Manda Lembrança Pra Quem Não Presta (2019) - Gangrena Gasosa\n",
            "Cosmos (2019) - Rogério Skylab\n",
            "Live Metal Espancation (2017) - Massacration\n",
            "Cantigas de Roda (2014) - Raimundos\n",
            "Good Blood Headbanguers (2009) - Massacration\n",
            "Roda Viva (2006) - Raimundos\n",
            "Gates of Metal Fried Chicken of Death (2005) - Massacration\n",
            "Canções para Ninar (2003) - Garotos Podres\n",
            "Éramos 4 (2001) - Raimundos\n",
            "Se Deus É 10, Satanás É 666 (1999) - Gangrena Gasosa\n",
            "Com a Corda Toda (1997) - Garotos Podres\n",
            "Rock de Subúrbio (1995) - Garotos Podres\n",
            "Welcome to the Macumba (1993) - Gangrena Gasosa\n"
          ]
        }
      ]
    }
  ]
}