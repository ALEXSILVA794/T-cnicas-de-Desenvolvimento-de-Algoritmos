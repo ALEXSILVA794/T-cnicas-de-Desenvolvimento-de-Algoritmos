{
  "cells": [
    {
      "cell_type": "markdown",
      "metadata": {
        "id": "view-in-github",
        "colab_type": "text"
      },
      "source": [
        "<a href=\"https://colab.research.google.com/github/ALEXSILVA794/T-cnicas-de-Desenvolvimento-de-Algoritmos/blob/main/Exercicio_Listas_POO_Python.ipynb\" target=\"_parent\"><img src=\"https://colab.research.google.com/assets/colab-badge.svg\" alt=\"Open In Colab\"/></a>"
      ]
    },
    {
      "cell_type": "code",
      "execution_count": null,
      "metadata": {
        "id": "zzaAi8gRQllx"
      },
      "outputs": [],
      "source": []
    },
    {
      "cell_type": "markdown",
      "metadata": {
        "id": "P1GI_kBMpCf-"
      },
      "source": [
        "#Nome: ALEX PAULO DA SILVA\n",
        "\n",
        "#Curso: SISTEMAS DE INFORMAÇÃO\n",
        "\n",
        "#Disciplina: Técnicas de Desenvolvimento de Algoritimos\n",
        "\n",
        "![images.jpg](data:image/jpeg;base64,/9j/4AAQSkZJRgABAQAAAQABAAD/2wCEAAkGBxAQEBAPEBAQEBAQEBEPDxAQEA8NDw8PFREWFhURFRUYHSggGBolGxUVITEhJSorLi4uFx8/OD8sNygtLysBCgoKDg0OFxAQGi0dHR0tLS0rLS0tLS0tLS0tLS0tLS0tKy0tLS0tLS0tLS0tLS0tLS0tLS0tLS0tLS0tLisrLf/AABEIAKgBLAMBEQACEQEDEQH/xAAbAAABBQEBAAAAAAAAAAAAAAACAQMEBQYAB//EAEYQAAEDAgIHBAcDCQYHAAAAAAEAAgMEESExBQYSQVFhcRMiM4EUIzJCUnKRQ6GxBxU0U2KCksHRJJOi0tPwFnOjssLh4v/EABsBAAIDAQEBAAAAAAAAAAAAAAABAgMEBQYH/8QAOREAAgIBAgQDBQcCBgMBAAAAAAECEQMEEiExMkEFE1EGImGBoRVCUnGxwdEUkRZicoLh8DNDsiT/2gAMAwEAAhEDEQA/APOGxtOwGnvONjyXVSTpIbbVkyv0WYnMbtX27eSuyYHBpepGOS7B0no4wbNzfaF0s2F46vuEJ7iGcgqiY7DA52LRdSSb5CbocFI/gntYtyE7B19m2KKYWhxtK/HulNRYtyCNG8bs1LawtHNpX8EbWFoQxkGxCVMLHvR3fCpbWK0CIHfCUUwtBCndwTpitHdk7gUUwsJkTuBUkmFiFpGaAFQAoQIMKQChABhSExzYIAPFSIhIAUKSAcBTEGCpAECmIMOTTEG1ylYBApiDBTAJpQIK6kIIFMAgUxBtI807A66BHndF4jPmC8/DqR0ZcjRaw+JB1C36rqiZ8XJjetX2fRR1v3R4e5RHILCXkyga4g2dsqyF9mRkSpGyAe2FY1JdyPAUMcTcOF+O9FN9xBNbIATtgprd6hwEc6QW7wQ9y7hwI5rX8VHex7UNvmJNycUrsdDzKx+V1JTYtqCbWv4p72Lacat53o3Me1B+mv5J72Lag2VjuSkpsW0afJtKNjECYCoEGE0AoTAIFMAwVKyId0wCCYgwVIQ4EwFBTEGCmA7GL77KSEzgmIMJgE1MQQKACCkIMFMQoTAJMDz2jHrGfMF56HUjoS5M0OsI9ZB1C6Gq6omfFyY3rV9n0UdbziPD3KIjALCaDm35oEWAjjsLuNyMcVdUfUhbCMUQGDjdOoith7MdvaIwxTqIcRdiL4j1RURcSNURgHum6i0STG9kpDCaExDkLATjgE0hMQhAxQExBNCaAUNKYBXTAVAgk6YCgJiDAKYBNCYg7JiCATEGFIAwFIQYCEAQCkINoTQggmAYTEE1SAMIEEExBBSQBBAhUwPPaM+sZ8wXn4dSOhPkzRaw+JB1C36vrgZ8XJjetZ8PolrecR4O5QE5LCaDgUAWDalmADL4Yq3cvQhTHXTNtbszywUnJVyI18TmzD9Wb2xwRu+AUEZh+rP0T3L0CgWVMYHs3N0KSXYKYvprb4sRvXoG0JtWyxGxZPevQVM51U0j2bI3IKOjqWDNt+aFJBQRqWHDZtzT3IKJeiYXVErKeJgc95sL4AYXLidwABPkhzUVbIye1Wz0Si1Wo4B6wdvJ7xddsYPJgzHW6q3zly4I42o8RadQLGLsY8I4oox+xGxn4BPy/U509VllzkwzWn4j9U/LXoVeZL8TGpKgOwdZ3zAOH3qSxr0EsuRcpP8AuV1Toylk9qCMH4owInf4cD5gqaTXJmjH4hqId7/MyunNFmDvstJFfG4Aey+W1uI5hT3PujtaTWx1HDlL0KcVI+EI3G2g3VAPuqW4KFbUD4QnYqD9JHwhPcKgxUfshOxUEycfCLpphQQqOQTsKDbPyCdioBzrpgE0pgw2qQggmIIFABhSQhQmASBHnlF4jPmC8/DqR0Z9LNHrD4kHULoavqgZsXJjetf2fRLW/dHg7lAcgsJoOCAHIZC03CadCassYaiR4uAFapSkQaSDjMgJvYXGaktwnQY7W3u9U/eoXAj+hG+JFyo7GS3Cigfy+qNjFuQTKF3JPYw3Ay0pbmUnGgTschpA7JwUlGxN0JLThtsbocaGmazUCDs5pZbgkQ7LeW08En/D96HC6OX4pmcMSS7stNPacMLg0N23uF7bWy1rb2uSrUlFHH0uknqLadJDmi9I9uwusWkHZc24Nja+B3hOivU6eWCe2RLL+adGcAv5p0ABkPFFDKnSkhcHNJwc0tPmFJrgb9I9s0/iZgxAH2lVR6Wx50Ddzgp0hWJHCCPaCEhWH2Qws6/FOgHBE34lLgIPsmfEnwEc9rQMDdMAWoAJqaAIKQhwJiCCYBBMQbE0IIixTAVMR57ReIz5gvPw6kdGfSzRaw+JB1C6Gr64GbFyY3rZ9n0UdbziPB3KE7liNAgQAQQBMomX9/ZU4L4kJD/ZgHGS+B3qderIhCJtvFPROl6h8gthmALied0UvUOIXZtz7QjzUqXqKxtzwHYEkDmo3xHQ96si5JJUuAuIy221gCBl/wC0lzGPCKP4iVKkLiaTVIsbJKGnNjd/MqaSvgcbxi/Kj+f7FnpfQ8dTskuLHtw2rbQI4Ef7zUnGznaPWy09qrTHdHULKePs2EuJO05xwubAYDcME0qK9VqZaie5quyHy5SozAFyKGAXJjK2uIupdjXgKEhoHsFVcPQ9ODCLXu24QgY5GQcmJqhDl+DFIQYGHsWTEF+6mArRYeymB3bj4QnYUKJ+QRYqDbPyCdioJs/IKQUEJuQTFQN0wCaUxMIFMAkAefUR9YzD3guDB+8joT6WaLWE+sg6hb9X1wM2LkxvWs+H0Udb90eDuUJdksJoODkwHHsc21xmLhNpoSaY/SuZ74PkpRa7id9h8SRjENOSlcSNMISxW9k3TuPoFMMStuNlhI3iydrshUF2jP1ZTtegqYQkAFxGcs00/gFDNO91zYXCjFsbJL53EYMspuT9BUDTlzc2X4X3Ija7AyVBUvYSWssbWJabGysjJp3RRnwwzQ2yHH18xtYyY/tFWed/lMi8Nx+v0G31s4xL3j95J5n+Ef2di/6gG6XmHvu8zdLzl3RGXhkK4GupJXGNjnZloJvgVaefmqm16BOegVFfVuxRLgjXgRWaGgmqpmwRbAc652nmzWtGJcf971iz6qODG8k3SR6iMNzpGxH5PZCO9WsB5U5I+peFyH7Q4u0WyzyGMS/k9lYCY6uNztzXxOiB/eDnW+iIe0GG6lFobwSMlXRTwSOilaWPbmDbLcQciOYXcx5o5IqcHaZS406Y127jvVtsjQQmdxRYUEJTxUrEKOKaAUFMQYKYgwpIAgUxBhMA2piCBTEEEwPPqLxGfMF5/H1I6E+TNFrD4kHULo6vqgZsXJjetf2fRR13OI8HcoHblhNBwKAHY5e8CcbJpiaJUNa0YbAOOamp12I7RwV4xGwLKXmfANoLKzZFmgeaSnQbQxpE/CMFLzGLYL+cXcAn5jDad6c43yyRvYbUa/QupxawSVUronPAIgjDe0aOL3OuAf2bf0UYbn0nM1fiUMT2xVssP+GqT9bU/wB5D/pq7bP1MH2xP8C+px1cpf1tT/eQ/wCmjbP1D7YyfgX1AGrdKL2lqPOSL/TTUJeon4xl/AvqNHVyDdNN5vj/AMils+JH7Yz/AII/UB2rkO+WQ7sXN/yqWxfEPtfP+GP1Dp9BUsZDsXEYjaJOPTJNY4lOTxPVTVWo/kiTPICcMlYkY4oYc5MmkVte+wPRQyOos26ZcQ/yfH+3D/lSfi1eb9onWi/3L9z1mlXv/I9Re5eBUjekNOepKTTLKKLW3RwqackD1sIL4zvIGLo+hH3gc16fwTxDy8ihJ+7L9fUyanDatc0eag4L25zQ2oEPCF/wu+hTTFaC2jbZKmmBwQgHGNJwAueSdiHTC4YlpA5hNMVggqQEmCme/FrSUbkiLdHOjLTYixUk7AQJgGmI8+onesZ8wXAx9SOhPpZo9YfEg6hdDV9cDNi5Ma1s+z6KOu+6PB3KG17AYlYTQS6Sge42LXAcbFTjG2Rc0iazRN9z/wCEqxQRHzAzogg4MeRbgUbELzAXULWe0146gp7YoN1jBbDgBfNR90fEn0dC2UlsTC8jNWJRfBEZSrmTf+HpLeCcOals+BDzV6k3VCijdO+R0dhTWdZwwMxJ2B5WJ8goqpe6jLr9Q8WK1zZpamo2iSVpSSR5fi3bI4N1KgFLSnQANxToBS1OgBLEDBLeaYwHNQMYLkidEDSLQQQMzh5qrO6gbtKveJOocVq51smxv/7mheZ9pXWiS/zL9Geq0nX8j0l5XgkzoJCOATJEGV9rrThm0Nxs80do8uqHwsGUjgOAbfD7rL6fpc3m4MeT8STOFmWyTXoa/R2hoogLgOdvJxWmjHKbZP2WZWb9yZHiRK/RUcoOAB3EIHGbRkaqkdG4tIyU1xNCdkzV5p7cXGFioyuyGTkamupRIxzbbsOqE6KU6ZjpKdzSQRkruxfZoNVgezdf4lS+ZXk5lbpg+ucrsfIlHkQwVYMK6AMBRD1jPmC4OPqRvnyZpNYR6yDqF0NX1wM2LkxrWz7PolrvuksHcgavgGphBxF1ih1Isy9LPWmwM+EfQLp7Uc62F2beA+gTpBYuy3gEcAAlpmPFnNBB5BJxTBNoxmsuihAdtjLtPDcVnyR28kacU93BlJoevfBOHhpDSbOHJUKTjK0WZIqUT1CCUPaHDEEXW9O0YWqIEsTYtoNFtt+27rYD+X3qKhxbOR4jkcsij6Iiucp0YRxmAUkhATSIGkMipDcyglsbG36RYN6ZNYWD+cWcUWiawSGn6UYEty9SS08hs6VYluj6klp5Ed+km7lF5ILuWR08mTtE0bpj2zgREzvAn33DK3EA435Khy812uSOhhxbOfM0Go2jdlsk5bYynuXz7Nt+95k/QDivG+0+rjklDTw+7xf7I9BpINRcn3NJK5eSN8RHORZIral+auxsnRWaOpx2kslsXOFv4QvpHgct2hxv81/aTPO+IcM8l+X6IgazaXdFaOP2jmeAXUk+yM+OF8WZN1XNntuv1Ki0y7ajV6q6XdKDHJ7bcjxCcJPkyjJCuKD1ohs0SDA3sVamGN9iq1ckJqBc7ioyfElk5G0ugoMxrJSlru0GTs+qnFl2N9iXqkfVO+ZV92Rycyu0z4zlox8iUeRDCsJCoEYCh8RnzBcHH1I6E+TNJrF4kHULoavrgZcXJjWtv2fRR133SWDuQNXP0qHqsWPrRPL0s9gC6xzjzrWnTNRFUuax5DRuXOzTkpumbMWNONsg02mKxw2xJkcikp5Grsm8cTd6r6SfPF6z224Fa8M3JcTJkjtfAd1lZenfxAuCpZekMT9487ZTv9ovGKybXzs2WjV6m6Tzge65HslXYZV7rZmzQ7lzXO77h0/ALXE87rP/ADP5foRG5oM4bn2TBIq6yqskX48dlJVaQOKzZM75ROpg0e4Yp46ickQxveRgdhtwOpyH1WLNnUFuyTUV/Y6OPRx7Kzc6N1SBjaZWTbZHeG0+wP7uCx/a/h66stv5/sh/0WS+Ef8Av9ys0zqfPt/2djti3vPfe/mqpeMeH3wyfr/BdDRTr3o/VEEam13wD+N39FF+M+Hr/wBj/syf9E/T6kzRupFX2rHPEeyDcglzifIj+aql47oFxVy+T/cl/RSrsj0SDROHfta2Rx+5ZNX7S5ckXHBDZ8Xxf9h49DCLub3foSiA0WC8tOfNt23zZ0IxsiSArOXpCPcgaRVVbs1dAmhKQd3zP4r6R4Cq0GP/AHf/AEzzXiL/AP0y+X6IwusEm1UP5Gy6pDGvdIATJlpqw61S228G6h94ry9JqtYm3gdyVhTj5ma1Z/SR8pSlzLcnI0mmqwwmJ27as7oUpcCqCsk1sImiI4i4UkyKdMr9Voy1j2nMPIUVzJZOJWaZ8Z60Y+ROPIhhWEggmIwFD4jPmC4GPqRvnyZodZ37L4XcLFdDWOpRZnwq0yv05pJs+xsg90YrPqM6yVRZig48xNXP0qHqqcfWgzdLPYAusc48w1vge6qfstccsgSubmXvs34WtpX0uj6l3dYx+PKyioy5Im5xPRtVtFup4bPN3uxK24YOK4mLLLc+AOuFSGUzxvdgEZ3UQwq5HmJkNrXOCxWb6Cpql0UjZGnFpuo207QpRtUegQ14mAkHvNafO1j94XUwy3RTPL63HtzMeDlaZKGZ5NyRJIpdJyWCqyyqJu00LYxqvor0ypEbriMDbkIwOwCO6DxJIH1O5cTxDWLSYJZXxfb4s9JgxW1FHsVLHFAxscUbWtaLANAAC+f5tVLLLfk96Xx/b0R0Vj7LgiY2qNslX579B+UhmaqN1F5n6EliQ0aspecx+UgRVG6TzSH5aDdUHik5tjUEMOn5qFk1EbMwQOhHFSQFRWyZq/GixDtG4FgI5r6j4bi8rSYoPsl9eJ5PVz355v4mG07GRO/DfdaicOkhBh4Jki01WjLqgH4Qo9yvJyNLrLJaB3PBTKca4md1YP8AaR8pUX1FuTkXGt7bxt6qVWV4uYWqlf2kfZuPeZh5KEfQMkadlzDAGlxHvG56qVFbdmU01471dDkXw5EMKwYQTsZhqKYl0bLCwcDfeuHCXFI2TXBsutbh4fRbNdziU6fuZ0BYDSWmrg/tUPVTx9aKc3Sz2ALrHOAMLCblov0CVIdsINaNwH0RwQEes0hFE0ue8C3NRlNR5jUWzzjWTTpqZO7cRty581hyZN7NuLHtRSqsuFLORToRf6uTkNLDhsuNuhx/G616WVJxON4lj95SNCH4LYciiO5yiToqdLXNgMz/AEWfUcjoaFe+Xv5OIHMkmLsy1oH1K8b7UtqGJfF/seo0ST3P8v3N+4rxpuoda7BMVDMxxSJJDRKB0IDigY6SmIjkhFDAJToA5H2CnFAZrTdbsNcRi7Jo5nL+vku34Tonqc8Y1wXF/l/zyK9TlWLG33fIe1WqtuENPtNwIX0WD4HlsipjWsOjXvIkjz94KXEeOVcGZ4Ukzjs2N+hRxLtyNRq/orsGlzvbdnySUSjJKyDrRVtcWx3yxcmqJY13IGrgb6SNn4SlLqJT6S51r9hvVSXMrx8zNaNqjBM1/uk2d0UJqnZbJWj0CN4cARkRdSMxkNN+M9Ww5F8ORDAOe5TJCpiMHQu9Yz5guFjfvI3z6WX2tx8Pot2u+6Z9P3M7dc81Fpq5+lw9VPH1ooy9LPYAuuc4wusWmZo6h0bZNlo3LDlySU6s1Y8acbKqbTMhwMz/ACUHO+5Ysa9CAZw8nbc9/UkqCruT21yHGSxAYRk+SmnH0CmcZGkd1hv0RafJDHKZ78bsz4qUW/QTSJuiYJJJHtDbHZu0cSNylBy3mbUwUoUWdPUXBBwIwIOBB4LbGSaOJkxuLE7TmnZHaVukTctANsc+GCzZ+x0NEveNHqGLPl7+1g3yzXjfarpxcfX9j02g5S+X7m3Ll4w3UOtdgpAUOndNMgPecBw4nyW/R6DLqnWNX+iG5Qxx3TdFC/XFm7bPQf1K7EfZrUPm4r5v+Cl67B8WdTa2h8jWAPBcbAkNt+Kn/hrN+KP1/gg/EMKV7X9P5NDI+YAnabgL71d/hXP+KP1/go+1cH4ZfT+TNv1ssSLPwNsm/wBVD/DWX8Ufr/Bd9oYvwv6fyCzWu7g2z7kgZNt+KH7NZV96P1/gH4hi/C/p/JoiyYtuXtta+8laIey+S/eml/d/wZ34ti7Rf0MHpOse+R1zgCQBwC9Fo9Hj0uPZj+b7syZc0sz3SB0TpR9NIHYlp9oLRbi7KJw3I39DpWGZoLXjHcTir4zTMjg0SS9gxu0c8E7QuJU6W1gjjBbGdp/LIKLl6FkcbfMx8kjnuLnYk4lNF9UStD1rYJhI69rWwUZcHZGcbRZaY0yyoaAwEWO9Ti7Ixg0U0jLhSkrJlpRawSxsEeyHWwueCrSaK3jTYzUVJkcXuzPBXx4IklQO1u3KYC3QIwdB4jPmC4WPqRvn0svtb/s+i3a77pRp+5nAVgNJbat/pcPVTx9aKM3Sz2ALrnOPNNbpmCpeC254rn5mtzN2FNxKw6QZ8G5R8xehbsYMVaBfug3N0lOgcTvzidzQAn5gbARWkYNwCW99g2i+nv4p72G1F3qTO51Vib91TwybmU51UTXac0HFKHSgujkAuXMtZ9h7w39VpnDuuBipPmecyTuBIu7AkZrL5k/U0rSQCcbtuSdrhySdvi2ThhjB8DV/k7Hem/c/8l5P2o5Yvn+x2NByl8v3N4V5CjaPNeLKREp9Oatw1dnOe5rhk5pFxxFjgRlwOGa7XhnistFa27k+fGmZ8+LzUk+FFE78nh3VeHOAfylXdj7TYXzxy+n8mT+jl6oOk1DMcjJPSgdk3t2Fr/8AUT/xJgvol9P5FLRSaq0XGnDJDC94cx+y25aWlhLd5BuQTvtgt+k9ocOoyLGouLfqZZ+HSgt12eZudck8TdddERMQQRmDcJNWBa/nyrItfDLAKScyvy4kPsnuJJGJxN1KmTtHNgLsOCdWFisong4O2ehsl5YrQ8Yn+9Kf4ijy/iLh6Dhiac3DLcrKQhdhg966lwAZICQw2KSEGCmIIJgONKkIIFMQSYGEoPFZ8wXCx9SN0+ll/rf9n0W7X84lGn7mbC55pLjVuQNqIycrjHgrcbqSKcvSz1I6WgH2jfqun5kfU5+xnnWs8fbVDnx95pwusGROUm0bsT2xpla3Rj+Sj5bLN6DZo83ttDimsb5C3Dv5uYM3i6l5a9Rb2FHSRC+05CjHuwcmC6GEYh10NRC2O0NWIHdpGbOtZJNJ2iMo7uDLA6yTOBBLiDyViysh5SRDjcSPDy4oT+BOviEHyHKMBSuXoLgafUpzg6QED3Dh+8vKe1KezE/9X7HR8PfX8v3NndeMOiJdOhCEp0ABKKAytRre1shaG3Y1xBO82NiQF6rF7NueBTc6m1dVw/JsxS1sVOq4epb6XcDCTmC2/UWXF0HDUQ/1L9TXPpl+TPPxUtOAbYL6duR5+hfSyMgEbgo7013JPew2iGqed6NzDahNo54oAUFx4oALs3cCnQDjIXcFJJisV0ZGadUI4FMA2poQTSmAYUhBtTQBhMQQTEYagI7RnzBcTH1I3T6WX2t58Pot2v8AulGn7mc2uS59mmiRFUlmW8KSlRBxssYGyPaHbYF1ZFSauyDpAvje37QAHNDTXcfAJsQwvN96aXqxX8AjHFj3z9U6j6hbI8MkYcL3Nib3UU1Y2mPumhN8FJuAqYENVGBYsvzSUklyG4sL00EEbIAt5qW/4C2g+nEYACwS3se0X84P5J72LahDWSH3ijew2o0WotXaaRrj7TARf9l3/wBLz3tHjlPTxkuz/Vf8G3QupteqN92o4rxO1nSo7bToR20nQCbSdAV7dA0Ik7Yw3ffattu7Pa4lt7eWS7mPx3Uww+Vw4Kr+BjlpYuW4a01MNh+QAa7pkVl8NxOeoxr1kv1NGV7ccn8DBtpgDi4W4r6RXE4VjjYoxm66aURcQ9mLgSpe6LiJJZ2DWm/8kP4DHm7VgNjFSV+gjnzOb7oF0W0KrGhUvS3MdCid3FFsKOLiczdOwoVrTzTQh1kZ4FSQhwQngnQrHOxPJSoVjgiAzcEwsUNb8SYgxscSnwDiYDR/is+YLh4+pG+fSy+1w+z6Ldr+cTPp+5mwueaic6mbs32rnZv0VjiqK9zIzZXWtc24KNslSFuTxKAFDSdxTQDscLiDYFSSZFtDjaR/wo2MW5BCleTbC+Se1hY63R799gpLGxb0Eyi7xBcLWzT2caByHG0ke96e1eotzHHRQcU6gK5HNMQ9kE+Sfu9g4iUkzo37bGkY4KrJijki4TVpkoycWmnxRpqTTbsntLfvC81qvZ/Im3i95fX+DpY9fB8J8GWMWlwciPI3XIyeHZ4dUGvkallxy5SQ9+cuao/ppLsStAO0mBmVJaWb5ITlFdyLUacYBi8eRufoFsw+EajJyjX58P1KpajFHuVFbpRsndx2Tnz5L03hvhUNK983cvojm6jVPItq4IiulZkGErtWvQyUxGAi52ByuhfkA6HP+FoUrYuAJDh3rgFLjzAXrJ1T+YAu2Mi4lHAOJ23HwJRaDiE2dgGDblNSQqZwqv2QjcFC+kngE9wUEKh3FStio7tDxKLChQ48UwDBUhChNAGgRh6A+tZ8wXFx9SN0+ll9rh9n0W7X84mfT9zNhc81E6k2Mds4WVka7lbvsTGuiAFmE7gbKdx9CHE5r7YdkTY3GCE67AGJngYRgKW5+gUhyESnvDZG6ycdz4idAyCUWu5ouk9w+AYp7YukA34J7PVisTYYRjIT5p0vULfoKzsgM3O+qFtDiJGY8g0k8bJLb6BxGZaRxJIbgk4se4fp3yNGyGDDipxbXChOuY+GSHMtAUqkxcAJy8C5f9Em2u4KjtlgG0XnEZX3p8OdiBvFhiSi4jpndpGMSL44ItBTF9KZawYE9y9Apnemnc0JbwoUVbiRknuYqBkqXHejc2OkJ2ruJRbChNo8UCCKkMUIEKgQYTQChMAgUwDapIiGAmAYTQg2qSEGEwCTEYigb61nzBcXH1I3T6WX+t48Pot2v5xM+n7mbFlzzSG4hMC2opn7ADWXtkSroSdcEVSSvmKJJhc90J3MVIddC5zRtSAb06bXFitDL2bIsZcCotV3Jc+woji955KdR7sVsP1Tsrm2WafusOKAjfY4MJAPBJPjyBkntHH2Y7DmrLb5IVBXkvgGo94XAR3aH3gMdyHu9Q4Avi94yX3YJNd7GQnvOIufqo2SoHbPFIdHApiCQASkIUIAIJiHoHFpyzwyUouhMFwsUhnBMQQTAMjJMQoCYwrIEEExChMBQUAONKkhBmQmw4ZKVioUFAg2lSQgwUwCBTAxGj/FZ8wXFx9SNs+lmg1w+z6Ldr+cTPp+5nI2kkAZlYFxNL4E46Mk5ZKzy5EN6JIhlY3B4wGSlUkuZG02d2VwC+XE7kbb5sL9EONbEM3l3mmlFc2J2IXQAXsTin7ge8A+tjtZreiTnHsh7WR6erLCbDNRjKiTjY8dIuvuCl5jI7TjXPN8cEb2G1DPbu+IpWyVChzjvKApChrjxTEPspXkZKSi2LcghQv5J7GLch+PR2GLgFNQE5AvpWj3wk40FjrY4ha7rqSURWxS6Hdmj3Q4iQ1TWi2zc8UKSSBoVtadzQnvFtGZJdo3Ki3Y0IHIsBQUwDJUgOCACCYgggQQBTQC2TANpTQChMiGCpAONKaEE0qQgrpgf//Z)"
      ]
    },
    {
      "cell_type": "code",
      "execution_count": null,
      "metadata": {
        "colab": {
          "base_uri": "https://localhost:8080/"
        },
        "id": "JZszVDlOXDBr",
        "outputId": "f007c9c2-e6a5-4122-a05a-5d3161390b8d"
      },
      "outputs": [
        {
          "name": "stdout",
          "output_type": "stream",
          "text": [
            "\n"
          ]
        }
      ],
      "source": [
        "'''\n",
        "Estrutura de dados com Python (POO)\n",
        "❑ Introdução\n",
        "❑ Listas\n",
        "❑ Exemplos e Exercı́cios\n",
        "'''\n",
        "print()"
      ]
    },
    {
      "cell_type": "code",
      "execution_count": null,
      "metadata": {
        "colab": {
          "base_uri": "https://localhost:8080/"
        },
        "id": "FtBgUfNvXc06",
        "outputId": "e4b3ed44-a0fa-4b9c-91e5-f77f6b889eff"
      },
      "outputs": [
        {
          "output_type": "stream",
          "name": "stdout",
          "text": [
            "[10, 20, 30, 40]\n",
            "['programação', 'UDF', 'python']\n",
            "['oi', 2.0, 5, [10, 20]]\n"
          ]
        }
      ],
      "source": [
        "lista1=[10, 20, 30, 40]\n",
        "lista2=[\"programação\", \"UDF\", \"python\"]\n",
        "lista3=[\"oi\", 2.0, 5, [10, 20]]\n",
        "print(lista1)\n",
        "print(lista2)\n",
        "print(lista3)"
      ]
    },
    {
      "cell_type": "code",
      "execution_count": null,
      "metadata": {
        "colab": {
          "base_uri": "https://localhost:8080/"
        },
        "id": "T57L87rdaObS",
        "outputId": "7cf7fd3e-30a3-4826-b056-95d87e10ca8c"
      },
      "outputs": [
        {
          "output_type": "stream",
          "name": "stdout",
          "text": [
            "8.0\n",
            "5.5\n",
            "9.3\n",
            "7.6\n",
            "3.1\n"
          ]
        }
      ],
      "source": [
        "#Como usar listas\n",
        "notas = [8.0, 5.5, 9.3, 7.6, 3.1]\n",
        "print(notas[0])\n",
        "print(notas[1])\n",
        "print(notas[2])\n",
        "print(notas[3])\n",
        "print(notas[4])"
      ]
    },
    {
      "cell_type": "code",
      "execution_count": null,
      "metadata": {
        "colab": {
          "base_uri": "https://localhost:8080/"
        },
        "id": "6pAIpxlTbRF1",
        "outputId": "c68b2d81-a3a9-49da-cbed-05c82f074692"
      },
      "outputs": [
        {
          "output_type": "stream",
          "name": "stdout",
          "text": [
            "10.0\n",
            "[8.0, 5.5, 9.3, 0.5, 3.1]\n"
          ]
        },
        {
          "output_type": "execute_result",
          "data": {
            "text/plain": [
              "5"
            ]
          },
          "metadata": {},
          "execution_count": 33
        }
      ],
      "source": [
        "print(notas[0] + 2)\n",
        "notas[3] = 0.5\n",
        "print(notas)\n",
        "len(notas)"
      ]
    },
    {
      "cell_type": "code",
      "execution_count": null,
      "metadata": {
        "colab": {
          "base_uri": "https://localhost:8080/"
        },
        "id": "ilu_I6P6u2Fv",
        "outputId": "1f42c49d-64fe-4f4a-979b-29effbe77c60"
      },
      "outputs": [
        {
          "output_type": "stream",
          "name": "stdout",
          "text": [
            "[8.0, 5.5, 9.3, 0.5, 3.1]\n"
          ]
        }
      ],
      "source": [
        "print(notas)"
      ]
    },
    {
      "cell_type": "code",
      "execution_count": null,
      "metadata": {
        "colab": {
          "base_uri": "https://localhost:8080/"
        },
        "id": "qPSJnh9Yu-5N",
        "outputId": "aceb25f5-374c-45fc-8aa1-1abe2601764b"
      },
      "outputs": [
        {
          "output_type": "stream",
          "name": "stdout",
          "text": [
            "8.0\n",
            "5.5\n",
            "9.3\n",
            "0.5\n",
            "3.1\n"
          ]
        }
      ],
      "source": [
        "for alex in range(5):\n",
        "  print(notas[alex])\n"
      ]
    },
    {
      "cell_type": "code",
      "execution_count": null,
      "metadata": {
        "colab": {
          "base_uri": "https://localhost:8080/"
        },
        "id": "nSdK-QElccbU",
        "outputId": "cfce8ca4-a58d-4662-cc8e-973ca049410a"
      },
      "outputs": [
        {
          "output_type": "stream",
          "name": "stdout",
          "text": [
            "[0, 5, 10, 15, 20, 25, 30, 35, 40, 45, 0]\n"
          ]
        },
        {
          "output_type": "execute_result",
          "data": {
            "text/plain": [
              "11"
            ]
          },
          "metadata": {},
          "execution_count": 36
        }
      ],
      "source": [
        "#Quais valores serão armazenados em cada posição após a\n",
        "#execução desse código\n",
        "lista = [0, 0, 0, 0, 0, 0, 0, 0, 0, 0, 0,]\n",
        "for i in range(10):\n",
        "  lista[i] = 5*i\n",
        "print(lista)\n",
        "len(lista)"
      ]
    },
    {
      "cell_type": "code",
      "execution_count": null,
      "metadata": {
        "colab": {
          "base_uri": "https://localhost:8080/"
        },
        "id": "y3Ngdwsq7xF7",
        "outputId": "cb30f811-c117-4789-f34d-dbe4610a6fe4"
      },
      "outputs": [
        {
          "name": "stdout",
          "output_type": "stream",
          "text": [
            "3.1\n",
            "0.5\n",
            "9.3\n",
            "5.5\n",
            "8.0\n"
          ]
        }
      ],
      "source": [
        "#Índices negativos se referem à lista da direita para a esquerde;\n",
        "#Ocorre um erro se tentarmos acessar uma posição da lista que\n",
        "#não existe.\n",
        "notas = [8.0, 5.5, 9.3, 0.5, 3.1]\n",
        "print(notas[-1])\n",
        "print(notas[-2])\n",
        "print(notas[-3])\n",
        "print(notas[-4])\n",
        "print(notas[-5])\n"
      ]
    },
    {
      "cell_type": "code",
      "execution_count": null,
      "metadata": {
        "colab": {
          "base_uri": "https://localhost:8080/"
        },
        "id": "OMQ5q9K8_5t3",
        "outputId": "0feb6b3f-9f4b-44c5-bedd-abdaed2cf8ef"
      },
      "outputs": [
        {
          "name": "stdout",
          "output_type": "stream",
          "text": [
            "[9.3]\n",
            "[8.0, 5.5, 9.3, 0.5, 3.1]\n",
            "a\n"
          ]
        }
      ],
      "source": [
        "#Slicing\n",
        "print(notas[2:3])\n",
        "print(notas)\n",
        "nome=[\"a\", \"l\", \"e\", \"x\"]\n",
        "print(nome[0])\n"
      ]
    },
    {
      "cell_type": "code",
      "execution_count": null,
      "metadata": {
        "colab": {
          "base_uri": "https://localhost:8080/"
        },
        "id": "Bo34fLWFyYJ9",
        "outputId": "a7e9558b-cc2d-4bc6-d777-dafb141757ca"
      },
      "outputs": [
        {
          "output_type": "execute_result",
          "data": {
            "text/plain": [
              "5"
            ]
          },
          "metadata": {},
          "execution_count": 37
        }
      ],
      "source": [
        "#tamanho da lista (len)\n",
        "len(notas)"
      ]
    },
    {
      "cell_type": "code",
      "execution_count": null,
      "metadata": {
        "colab": {
          "base_uri": "https://localhost:8080/"
        },
        "id": "f9gKD9iSy72E",
        "outputId": "8e3bec2b-2c0c-4346-e7e3-dd762053dc51"
      },
      "outputs": [
        {
          "output_type": "stream",
          "name": "stdout",
          "text": [
            "8.0\n",
            "5.5\n",
            "9.3\n",
            "0.5\n",
            "3.1\n"
          ]
        }
      ],
      "source": [
        "'''\n",
        "Listas: for\n",
        "• Lembre-se que o for na verdade faz variável de controle assumir todos os valores de uma lista.\n",
        "'''\n",
        "for i in range(len(notas)):\n",
        "    print(notas[i])"
      ]
    },
    {
      "cell_type": "code",
      "execution_count": null,
      "metadata": {
        "colab": {
          "base_uri": "https://localhost:8080/"
        },
        "id": "fsqQXtKN1xFK",
        "outputId": "bbebb706-19f3-4559-beb1-cd6692c9a7ce"
      },
      "outputs": [
        {
          "output_type": "stream",
          "name": "stdout",
          "text": [
            "8.0\n",
            "5.5\n",
            "9.3\n",
            "0.5\n",
            "3.1\n"
          ]
        }
      ],
      "source": [
        "#E também pode ser implementado como:\n",
        "for i in notas:\n",
        "  print(i)"
      ]
    },
    {
      "cell_type": "code",
      "execution_count": null,
      "metadata": {
        "colab": {
          "base_uri": "https://localhost:8080/"
        },
        "id": "kQrGijdS2OPX",
        "outputId": "02329342-b127-44db-c9b5-1b500cb7a43c"
      },
      "outputs": [
        {
          "output_type": "stream",
          "name": "stdout",
          "text": [
            "[10.0, 12.0]\n"
          ]
        },
        {
          "output_type": "execute_result",
          "data": {
            "text/plain": [
              "2"
            ]
          },
          "metadata": {},
          "execution_count": 42
        }
      ],
      "source": [
        "'''\n",
        "Listas: método append\n",
        "• Uma operação importante é acrescentar um item no final de uma lista.\n",
        "Isto é feito pela função append.\n",
        "'''\n",
        "#lista.append(item) #método para inserir um item no final da lista, como a lista é notas, o exemplo segue abaixo:\n",
        "notas.append(10.0)\n",
        "notas.append(12.0)\n",
        "print(notas)\n",
        "len(notas)"
      ]
    },
    {
      "cell_type": "code",
      "source": [
        "'''\n",
        "Listas: método append\n",
        "notas = []\n",
        "n = int(input(\"Entre com o número da nota: \"))\n",
        "for i in range(n):\n",
        "  dado = float(input(\"Entre com a nota \" + str(i) + \": \"))\n",
        "notas.append(dado)\n",
        "print(notas) combinação de uma lista vazia que vai sofrendo \"appends\" permite ler dados e preencher uma lista com dados:\n",
        "'''\n",
        "notas=[]\n",
        "for i in range(5):\n",
        "  dado = float(input(\"Entre com a nota \" + str(i+1) + \": \"))\n",
        "  notas.append(dado)\n",
        "print(notas)"
      ],
      "metadata": {
        "id": "_HlBjsRsGdz7",
        "colab": {
          "base_uri": "https://localhost:8080/"
        },
        "outputId": "14be6a33-0829-427f-ce6b-c09a668ac73b"
      },
      "execution_count": null,
      "outputs": [
        {
          "output_type": "stream",
          "name": "stdout",
          "text": [
            "Entre com a nota 1: 2\n",
            "Entre com a nota 2: 3\n",
            "Entre com a nota 3: 4\n",
            "Entre com a nota 4: 1\n",
            "Entre com a nota 5: 5\n",
            "[2.0, 3.0, 4.0, 1.0, 5.0]\n"
          ]
        }
      ]
    },
    {
      "cell_type": "code",
      "source": [
        "'''\n",
        "Listas: operador +\n",
        "A operação de soma em listas gera uma nova lista que é o resultado\n",
        "de \"grudar\" lista2 ao final da lista1. isto é conhecido como\n",
        "concatenação de listas.\n",
        "'''\n",
        "lista1 + lista2\n"
      ],
      "metadata": {
        "id": "DAHiJhj3Hge7",
        "colab": {
          "base_uri": "https://localhost:8080/"
        },
        "outputId": "5051f86c-9da1-4ecb-e4ab-8878d2472743"
      },
      "execution_count": null,
      "outputs": [
        {
          "output_type": "execute_result",
          "data": {
            "text/plain": [
              "[10, 20, 30, 40, 'programação', 'UDF', 'python']"
            ]
          },
          "metadata": {},
          "execution_count": 9
        }
      ]
    },
    {
      "cell_type": "code",
      "source": [
        "'''\n",
        "Lista: operador *\n",
        "O operador \"*\" faz repetição de concatenação:\n",
        "O resultado da operação do exemplo é o mesmo que somar\n",
        "(concatenar) 4 vezes a d lista x.\n",
        "x = [1, 2, 3]\n",
        "y =  4*x\n",
        "print(y)\n",
        "'''\n",
        "x=[1,2,3]\n",
        "y=4*x\n",
        "print(y)"
      ],
      "metadata": {
        "colab": {
          "base_uri": "https://localhost:8080/"
        },
        "id": "p390kmTtI0yb",
        "outputId": "01c45399-4a9d-40d4-98d2-2e3ea85ad278"
      },
      "execution_count": null,
      "outputs": [
        {
          "output_type": "stream",
          "name": "stdout",
          "text": [
            "[1, 2, 3, 1, 2, 3, 1, 2, 3, 1, 2, 3]\n"
          ]
        }
      ]
    },
    {
      "cell_type": "code",
      "source": [
        "'''\n",
        "outros Métodos em listas\n",
        " Lista.insert(indice,dado) insere na lista o dado antes da posicão indice.\n",
        " x = [40, 30, 10, 20]\n",
        "x.insert(0, 99)\n",
        "print(x)\n",
        "'''\n",
        "x=[40, 30, 10 ,20]\n",
        "x.insert(0,99)\n",
        "\n",
        "print(x)"
      ],
      "metadata": {
        "id": "-Cb1Pox-KjG5",
        "colab": {
          "base_uri": "https://localhost:8080/"
        },
        "outputId": "291fadbf-0308-4f5c-cd21-46a8b0aa3db8"
      },
      "execution_count": null,
      "outputs": [
        {
          "output_type": "stream",
          "name": "stdout",
          "text": [
            "[99, 40, 30, 10, 20]\n"
          ]
        }
      ]
    },
    {
      "cell_type": "code",
      "source": [
        "'''\n",
        "outros Métodos em listas\n",
        " Lista.insert(indice,dado) insere na lista o dado antes da posicão indice.\n",
        " x = [40, 30, 10, 20]\n",
        "x.insert(0, 99)\n",
        "print(x)\n",
        "'''\n",
        "x = [40, 30, 10 ,20]\n",
        "x.insert(10,99)\n",
        "\n",
        "print(x)"
      ],
      "metadata": {
        "colab": {
          "base_uri": "https://localhost:8080/"
        },
        "id": "R0HLWSYvGbXV",
        "outputId": "a0b39f37-b18f-4090-905e-3c9331f862fd"
      },
      "execution_count": null,
      "outputs": [
        {
          "output_type": "stream",
          "name": "stdout",
          "text": [
            "[40, 30, 10, 20, 99]\n"
          ]
        }
      ]
    },
    {
      "cell_type": "code",
      "source": [
        "'''\n",
        "del lista(posição) remove da lista o item da posição especificada.\n",
        "x = [40, 99, 30, 10, 20]\n",
        "del x[4]\n",
        "print (x)\n",
        "'''\n",
        "del x[2]\n",
        "print (x)\n"
      ],
      "metadata": {
        "colab": {
          "base_uri": "https://localhost:8080/"
        },
        "id": "vUy9tYdrI-7t",
        "outputId": "6c77f3d0-943e-4a8d-bd70-f46b4cd8d5b0"
      },
      "execution_count": null,
      "outputs": [
        {
          "output_type": "stream",
          "name": "stdout",
          "text": [
            "[40, 30, 20, 99]\n"
          ]
        }
      ]
    },
    {
      "cell_type": "code",
      "source": [
        "'''\n",
        "Também podemos remover um item da lista pelo valor utilizando o método remove.\n",
        "x = [40, 99, 10, 20]\n",
        "x.remove[10]\n",
        "print(x)\n",
        "'''\n",
        "x=[40, 99, 10, 20]\n",
        "x.remove (10)\n",
        "print (x)\n"
      ],
      "metadata": {
        "colab": {
          "base_uri": "https://localhost:8080/"
        },
        "id": "O7JreK5xLnLI",
        "outputId": "2659bbff-6f76-41cf-96dd-1ac5c0a4e6be"
      },
      "execution_count": null,
      "outputs": [
        {
          "output_type": "stream",
          "name": "stdout",
          "text": [
            "[40, 99, 20]\n"
          ]
        }
      ]
    },
    {
      "cell_type": "code",
      "source": [
        "'''Podemos contar o número de elementos na lista com um certo valor usando o método count.\n",
        "x = [40, 99, 10, 20, 13, 20, 14]\n",
        "N = x.count(20)\n",
        "print(N)\n",
        "'''\n",
        "x = [40, 99, 10, 20, 13, 20, 14]\n",
        "N = x.count(20)\n",
        "print(N)"
      ],
      "metadata": {
        "colab": {
          "base_uri": "https://localhost:8080/"
        },
        "id": "L0hIpjb5M-cy",
        "outputId": "7750acd0-7559-4303-fd99-dfbb189c822a"
      },
      "execution_count": null,
      "outputs": [
        {
          "output_type": "stream",
          "name": "stdout",
          "text": [
            "2\n"
          ]
        }
      ]
    },
    {
      "cell_type": "code",
      "source": [
        "'''\n",
        "Informações extras: Inicialização de uma lista\n",
        "Em algumas situações é necessário declarar e já atribuir um conjunto de valores constantes para uma lista.\n",
        "Dentro da lista incluímos uma constrção  com uma laço que gerará valores iniciais para a lista.\n",
        "'''\n",
        "x = [ 0 for i in range(5)]\n",
        "print(x)\n",
        "x = [2*i for i in range(5)]\n",
        "print(x)"
      ],
      "metadata": {
        "colab": {
          "base_uri": "https://localhost:8080/"
        },
        "id": "wiN3yFI9N1tI",
        "outputId": "fbc51cc7-8a2b-42c4-b947-073bca641783"
      },
      "execution_count": null,
      "outputs": [
        {
          "output_type": "stream",
          "name": "stdout",
          "text": [
            "[0, 0, 0, 0, 0]\n",
            "[0, 2, 4, 6, 8]\n"
          ]
        }
      ]
    },
    {
      "cell_type": "markdown",
      "source": [
        "Exercicio apresentação do dia 21/10 POO Python"
      ],
      "metadata": {
        "id": "1BYlhGv0QPs-"
      }
    },
    {
      "cell_type": "markdown",
      "source": [],
      "metadata": {
        "id": "YP17WOjkI-uc"
      }
    },
    {
      "cell_type": "code",
      "source": [
        "'''\n",
        "Exercicios\n",
        "Faça um programa que leia um número n e e imprima linha na tela com o seguinte formato(exemplo se n 5):\n",
        "Exemplo de Solução (com Laços Encaixados)\n",
        "'''\n",
        "n=int(input())\n",
        "for i in range (1,n+1):\n",
        "  for j in range(1,1+1):\n",
        "   print (j, end=\" \")\n",
        "  print(\" \")"
      ],
      "metadata": {
        "colab": {
          "base_uri": "https://localhost:8080/"
        },
        "id": "nr5JznCQQdR7",
        "outputId": "2b1e13bc-9964-4601-b3e1-457fe5449bbe"
      },
      "execution_count": null,
      "outputs": [
        {
          "output_type": "stream",
          "name": "stdout",
          "text": [
            "5\n",
            "1  \n",
            "1  \n",
            "1  \n",
            "1  \n",
            "1  \n"
          ]
        }
      ]
    },
    {
      "cell_type": "code",
      "source": [
        "'''\n",
        "Exemplo de Solução\n",
        "Faça um programa que leia um número n e e imprima linha na tela com o seguinte formato(exemplo se n 5):\n",
        "'''\n",
        "n=int(input(\"Digite um número: \"))\n",
        "lista=[]\n",
        "for i in range (1,n+1):\n",
        "  lista.append(1)\n",
        "  for j in lista:\n",
        "    print(j,end=\" \")\n",
        "  print(\" \")"
      ],
      "metadata": {
        "colab": {
          "base_uri": "https://localhost:8080/"
        },
        "id": "J8yKoUObT8mp",
        "outputId": "d8523acf-7a70-41a9-e654-e8bd1dca517c"
      },
      "execution_count": null,
      "outputs": [
        {
          "output_type": "stream",
          "name": "stdout",
          "text": [
            "Digite um número: 6\n",
            "1  \n",
            "1 1  \n",
            "1 1 1  \n",
            "1 1 1 1  \n",
            "1 1 1 1 1  \n",
            "1 1 1 1 1 1  \n"
          ]
        }
      ]
    },
    {
      "cell_type": "code",
      "source": [
        "'''\n",
        "Exemplo de Solução\n",
        "Faça um programa que leia um número n e e imprima linha na tela com o seguinte formato(exemplo se n 5):\n",
        "'''\n",
        "n=int(input(\"Digite um número: \"))\n",
        "l=[]\n",
        "for i in range (1,n+1):\n",
        " l.append(i)\n",
        "print(l)"
      ],
      "metadata": {
        "colab": {
          "base_uri": "https://localhost:8080/"
        },
        "id": "kjcrZDfLWWSo",
        "outputId": "5eb4fcd0-e437-45ed-89ce-a1622619f202"
      },
      "execution_count": null,
      "outputs": [
        {
          "output_type": "stream",
          "name": "stdout",
          "text": [
            "Digite um número: 3\n",
            "[1, 2, 3]\n"
          ]
        }
      ]
    },
    {
      "cell_type": "code",
      "source": [
        "'''\n",
        "exercicio\n",
        "Faça um programa que leia n notas, mostre as notas e a média.\n",
        "entrada  saída\n",
        "5        [8.0, 5.5, 9.3, 0.5, 3.1]\n",
        "8.0             5.3\n",
        "5.5\n",
        "9.3\n",
        "0.5\n",
        "3.1\n",
        "'''\n",
        "#Mostra as n notas\n",
        "#Essa parte lê as n notas e mostra na tela.\n",
        "notas = []\n",
        "n=int(input(\"Digite a quantidade de notas: \"))\n",
        "for i in range(n):\n",
        "  dado=float (input ())\n",
        "  notas.append(dado)\n",
        "print(notas)\n",
        "\n",
        "#Calcula a média\n",
        "#Essa parte calcula a média e mostra na tela.\n",
        "soma = 0\n",
        "for i in range(len(notas)):\n",
        "  soma=soma+notas[i]\n",
        "media = soma/N\n",
        "print (format(media,\".1f\"))"
      ],
      "metadata": {
        "colab": {
          "base_uri": "https://localhost:8080/"
        },
        "id": "B8G2tc_UaAvZ",
        "outputId": "46e497c3-d6ca-4d45-ba7c-05509d0ee4f9"
      },
      "execution_count": null,
      "outputs": [
        {
          "output_type": "stream",
          "name": "stdout",
          "text": [
            "Digite a quantidade de notas: 5\n",
            "5\n",
            "6\n",
            "8\n",
            "9\n",
            "8\n",
            "[5.0, 6.0, 8.0, 9.0, 8.0]\n",
            "18.0\n"
          ]
        }
      ]
    },
    {
      "cell_type": "code",
      "source": [
        "'''\n",
        "Faça um programa que leia n notas, mostre as notas e a média.\n",
        "#Mostra as n notas e Calcula a média\n",
        "'''\n",
        "notas=[]\n",
        "soma=0\n",
        "n=int(input(\"Entre com o número de notas: \"))\n",
        "for i in range(n):\n",
        "  dado=float(input(\"Entre com a nota \" + str (i+1) +\": \" ))\n",
        "  soma = soma + dado # <=\n",
        "  print(notas)\n",
        "#Calcular a média\n",
        "media = soma/n\n",
        "print(format(media,\".1f\"))"
      ],
      "metadata": {
        "colab": {
          "base_uri": "https://localhost:8080/"
        },
        "id": "qyvraeFOgF85",
        "outputId": "73fd55c6-ec5b-4f0b-bd1a-e0bbb61f6f3a"
      },
      "execution_count": null,
      "outputs": [
        {
          "output_type": "stream",
          "name": "stdout",
          "text": [
            "Entre com o número de notas: 2\n",
            "Entre com a nota 1: 50\n",
            "[]\n",
            "Entre com a nota 2: 45\n",
            "[]\n",
            "47.5\n"
          ]
        }
      ]
    },
    {
      "cell_type": "code",
      "source": [
        "'''\n",
        "Faça um programa que leia duas listas com 5 inteiros cada e que verifique quais elementos da segunda lista sao iguais a algum elemento da primeira lista\n",
        "'''\n",
        "x = []\n",
        "y = []\n",
        "\n",
        "print(\"Digite 5 números para a primeira lista:\")\n",
        "for i in range(5):\n",
        "    x.append(int(input()))\n",
        "\n",
        "print(\"\\nDigite 5 números para a segunda lista:\")\n",
        "for i in range(5):\n",
        "    y.append(int(input()))\n",
        "\n",
        "um_elemento_comum = False  # Supomos que não há elementos comuns\n",
        "\n",
        "print(\"\\nElementos em comum:\")\n",
        "for i in range(len(x)):\n",
        "    for j in range(len(y)):\n",
        "        if x[i] == y[j]:\n",
        "            print(x[i])\n",
        "            um_elemento_comum = True\n",
        "\n",
        "if not um_elemento_comum:\n",
        "    print(\"Não tem elemento comum.\")\n"
      ],
      "metadata": {
        "colab": {
          "base_uri": "https://localhost:8080/"
        },
        "id": "-NgFJ7tTmRc8",
        "outputId": "8a130828-111e-41be-f87c-d85a7cc86a0c"
      },
      "execution_count": null,
      "outputs": [
        {
          "output_type": "stream",
          "name": "stdout",
          "text": [
            "Digite 5 números para a primeira lista:\n",
            "2\n",
            "5\n",
            "6\n",
            "9\n",
            "8\n",
            "\n",
            "Digite 5 números para a segunda lista:\n",
            "1\n",
            "2\n",
            "6\n",
            "8\n",
            "9\n",
            "\n",
            "Elementos em comum:\n",
            "2\n",
            "6\n",
            "9\n",
            "8\n"
          ]
        }
      ]
    }
  ],
  "metadata": {
    "colab": {
      "provenance": [],
      "authorship_tag": "ABX9TyPzvW+xR74AzlSFIB6JLUQT",
      "include_colab_link": true
    },
    "kernelspec": {
      "display_name": "Python 3",
      "name": "python3"
    },
    "language_info": {
      "name": "python"
    }
  },
  "nbformat": 4,
  "nbformat_minor": 0
}